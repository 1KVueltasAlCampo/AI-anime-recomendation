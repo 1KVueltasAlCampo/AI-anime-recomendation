{
 "cells": [
  {
   "cell_type": "code",
   "execution_count": 1,
   "id": "5bb18629",
   "metadata": {},
   "outputs": [],
   "source": [
    "import matplotlib.pyplot as plt    #Importamos pyplot de librería matplotlib. Lo vamos a utilizar para graficar.\n",
    "import seaborn as sns              #Importamos la librería Seaborn. La vamos a utilizar para graficar.\n",
    "import numpy as np                 #Importamos la librería numpy para manipular arreglos.\n",
    "import pandas as pd\n",
    "import os\n",
    "import warnings\n",
    "\n",
    "from pathlib import Path\n",
    "from sklearn.model_selection import train_test_split #Útil para dividir los conjuntos de datos. \n",
    "from sklearn.preprocessing import MinMaxScaler       #Útil para escalar los atributos de entrada.\n",
    "\n",
    "from copy import deepcopy                            #Permite hacer copias profundas. \n",
    "\n",
    "from sklearn.cluster import KMeans                   #Clase que implementa k-means.\n",
    "from sklearn.metrics import silhouette_samples       #Útil para calcular el valor de la silueta de una observación. \n",
    "from sklearn.metrics import silhouette_score         #Útil para calcular el valor de la silueta de todas las observaciones.\n",
    "from sklearn.metrics import calinski_harabasz_score  #Útil para calcular el valor del índice Calinski Harabasz (CH).\n",
    "from sklearn.metrics import confusion_matrix         #Permite extraer la matriz de confusión.\n",
    "\n",
    "#!pip install yellowbrick --upgrade                   #Instala y actualiza la librería yellowbrick (la versión por defecto en Google Colab está desactualizada).\n",
    "from yellowbrick.cluster import KElbowVisualizer     #Permite obtener la gráfica del codo para tres métricas diferentes (distorsión, silueta, CH).\n",
    "from yellowbrick.cluster import SilhouetteVisualizer \n",
    "from pandas.core.common import SettingWithCopyWarning\n",
    "\n",
    "warnings.simplefilter(action=\"ignore\", category=SettingWithCopyWarning)\n",
    "warnings.simplefilter(action=\"ignore\", category=FutureWarning)"
   ]
  },
  {
   "cell_type": "markdown",
   "id": "3e3e97ae",
   "metadata": {},
   "source": [
    "# **Anime recommendation**"
   ]
  },
  {
   "cell_type": "markdown",
   "id": "16ca42a2",
   "metadata": {},
   "source": [
    "## **Carga de datos**"
   ]
  },
  {
   "cell_type": "markdown",
   "id": "58ae0444",
   "metadata": {},
   "source": [
    "En esta celda cargamos el csv de anime"
   ]
  },
  {
   "cell_type": "code",
   "execution_count": 2,
   "id": "ac3e6fba",
   "metadata": {
    "scrolled": true
   },
   "outputs": [
    {
     "name": "stdout",
     "output_type": "stream",
     "text": [
      "<class 'pandas.core.frame.DataFrame'>\n",
      "RangeIndex: 12294 entries, 0 to 12293\n",
      "Data columns (total 7 columns):\n",
      " #   Column    Non-Null Count  Dtype  \n",
      "---  ------    --------------  -----  \n",
      " 0   anime_id  12294 non-null  int64  \n",
      " 1   name      12294 non-null  object \n",
      " 2   genre     12232 non-null  object \n",
      " 3   type      12269 non-null  object \n",
      " 4   episodes  12294 non-null  object \n",
      " 5   rating    12064 non-null  float64\n",
      " 6   members   12294 non-null  int64  \n",
      "dtypes: float64(1), int64(2), object(4)\n",
      "memory usage: 672.5+ KB\n"
     ]
    }
   ],
   "source": [
    "#Anime.csv\n",
    "path = Path(os.getcwd())\n",
    "path = str(path.parent.absolute())\n",
    "path = path+\"/datos/anime.csv\"\n",
    "dfAnime = pd.read_csv(path,na_values='?')    \n",
    "dfAnime.info()"
   ]
  },
  {
   "cell_type": "code",
   "execution_count": 3,
   "id": "5b536cee",
   "metadata": {},
   "outputs": [
    {
     "name": "stdout",
     "output_type": "stream",
     "text": [
      "<class 'pandas.core.frame.DataFrame'>\n",
      "RangeIndex: 7813737 entries, 0 to 7813736\n",
      "Data columns (total 3 columns):\n",
      " #   Column    Dtype\n",
      "---  ------    -----\n",
      " 0   user_id   int64\n",
      " 1   anime_id  int64\n",
      " 2   rating    int64\n",
      "dtypes: int64(3)\n",
      "memory usage: 178.8 MB\n"
     ]
    }
   ],
   "source": [
    "#rating.csv\n",
    "path2 = Path(os.getcwd())\n",
    "path2 = str(path2.parent.absolute())\n",
    "path2 = path2+\"/datos/rating.csv\"\n",
    "dfRating = pd.read_csv(path2,na_values='?')    \n",
    "dfRating.info()"
   ]
  },
  {
   "cell_type": "markdown",
   "id": "d4507dfd",
   "metadata": {},
   "source": [
    "## **Tipos de dato adecuados**"
   ]
  },
  {
   "cell_type": "code",
   "execution_count": 4,
   "id": "3abda122",
   "metadata": {},
   "outputs": [
    {
     "name": "stdout",
     "output_type": "stream",
     "text": [
      "<class 'pandas.core.frame.DataFrame'>\n",
      "RangeIndex: 12294 entries, 0 to 12293\n",
      "Data columns (total 7 columns):\n",
      " #   Column    Non-Null Count  Dtype  \n",
      "---  ------    --------------  -----  \n",
      " 0   anime_id  12294 non-null  int64  \n",
      " 1   name      12294 non-null  string \n",
      " 2   genre     12232 non-null  string \n",
      " 3   type      12269 non-null  string \n",
      " 4   episodes  11954 non-null  float64\n",
      " 5   rating    12064 non-null  float64\n",
      " 6   members   12294 non-null  int64  \n",
      "dtypes: float64(2), int64(2), string(3)\n",
      "memory usage: 672.5 KB\n"
     ]
    }
   ],
   "source": [
    "#anime.csv\n",
    "dfAnime['name'] = dfAnime['name'].astype(\"string\")\n",
    "dfAnime['genre'] = dfAnime['genre'].astype(\"string\")\n",
    "dfAnime['type'] = dfAnime['type'].astype(\"string\")\n",
    "dfAnime['episodes']=pd.to_numeric(dfAnime.episodes, errors='coerce').dropna().astype(int)\n",
    "dfAnime.info()"
   ]
  },
  {
   "cell_type": "markdown",
   "id": "956d81e3",
   "metadata": {},
   "source": [
    " **rating.csv ya tenia los tipos de datos adecuados**"
   ]
  },
  {
   "cell_type": "markdown",
   "id": "4ded0935",
   "metadata": {},
   "source": [
    "## **Busqueda y eliminacion de valores nulos o duplicados**"
   ]
  },
  {
   "cell_type": "markdown",
   "id": "69193670",
   "metadata": {},
   "source": [
    "### anime.csv"
   ]
  },
  {
   "cell_type": "code",
   "execution_count": 5,
   "id": "c41f3829",
   "metadata": {
    "scrolled": true
   },
   "outputs": [
    {
     "name": "stdout",
     "output_type": "stream",
     "text": [
      "Se encontraron  464  valores nulos\n"
     ]
    }
   ],
   "source": [
    "nullValues = []\n",
    "\n",
    "for i in range(len(dfAnime)):\n",
    "    if(dfAnime.iloc[i].isnull().sum() != 0):\n",
    "        nullValues.append(i)\n",
    "print(\"Se encontraron \",len(nullValues),\" valores nulos\")\n",
    "#La cantidad de datos con valores nulos no es tan grande en comparacion asi que podemos borrarlos\n",
    "#Unknown es contado como nulo porque no podemos asumir la cantidad de episodios de un anime en base a otros"
   ]
  },
  {
   "cell_type": "code",
   "execution_count": 6,
   "id": "bb14bf96",
   "metadata": {},
   "outputs": [
    {
     "name": "stdout",
     "output_type": "stream",
     "text": [
      "<class 'pandas.core.frame.DataFrame'>\n",
      "Int64Index: 11830 entries, 0 to 12293\n",
      "Data columns (total 7 columns):\n",
      " #   Column    Non-Null Count  Dtype  \n",
      "---  ------    --------------  -----  \n",
      " 0   anime_id  11830 non-null  int64  \n",
      " 1   name      11830 non-null  string \n",
      " 2   genre     11830 non-null  string \n",
      " 3   type      11830 non-null  string \n",
      " 4   episodes  11830 non-null  int32  \n",
      " 5   rating    11830 non-null  float64\n",
      " 6   members   11830 non-null  int64  \n",
      "dtypes: float64(1), int32(1), int64(2), string(3)\n",
      "memory usage: 693.2 KB\n"
     ]
    }
   ],
   "source": [
    "dfAnime=dfAnime.drop(nullValues)\n",
    "dfAnime['episodes'] = dfAnime['episodes'].astype(int)\n",
    "dfAnime.info()"
   ]
  },
  {
   "cell_type": "code",
   "execution_count": 7,
   "id": "363e2cbb",
   "metadata": {
    "scrolled": true
   },
   "outputs": [
    {
     "name": "stdout",
     "output_type": "stream",
     "text": [
      "Numero de datos duplicados  0\n"
     ]
    }
   ],
   "source": [
    "duplicados = dfAnime[dfAnime.duplicated()].shape[0]\n",
    "print(\"Numero de datos duplicados \",duplicados)"
   ]
  },
  {
   "cell_type": "code",
   "execution_count": 8,
   "id": "c37ed4bb",
   "metadata": {},
   "outputs": [],
   "source": [
    "#Convirtamos type en una variable de numeros enteros para poder usar histogramas a futuro\n",
    "dfAnime=dfAnime.replace({'Movie': '0', 'TV': '1','OVA':'2','ONA':'2','Special':'3','Music':'4'})\n",
    "dfAnime['type'] = dfAnime['type'].astype(int)"
   ]
  },
  {
   "cell_type": "code",
   "execution_count": 9,
   "id": "77f0120d",
   "metadata": {},
   "outputs": [
    {
     "data": {
      "text/html": [
       "<div>\n",
       "<style scoped>\n",
       "    .dataframe tbody tr th:only-of-type {\n",
       "        vertical-align: middle;\n",
       "    }\n",
       "\n",
       "    .dataframe tbody tr th {\n",
       "        vertical-align: top;\n",
       "    }\n",
       "\n",
       "    .dataframe thead th {\n",
       "        text-align: right;\n",
       "    }\n",
       "</style>\n",
       "<table border=\"1\" class=\"dataframe\">\n",
       "  <thead>\n",
       "    <tr style=\"text-align: right;\">\n",
       "      <th></th>\n",
       "      <th>anime_id</th>\n",
       "      <th>name</th>\n",
       "      <th>genre</th>\n",
       "      <th>type</th>\n",
       "      <th>episodes</th>\n",
       "      <th>rating</th>\n",
       "      <th>members</th>\n",
       "    </tr>\n",
       "  </thead>\n",
       "  <tbody>\n",
       "    <tr>\n",
       "      <th>0</th>\n",
       "      <td>32281</td>\n",
       "      <td>Kimi no Na wa.</td>\n",
       "      <td>Drama, Romance, School, Supernatural</td>\n",
       "      <td>0</td>\n",
       "      <td>1</td>\n",
       "      <td>9.37</td>\n",
       "      <td>200630</td>\n",
       "    </tr>\n",
       "    <tr>\n",
       "      <th>1</th>\n",
       "      <td>5114</td>\n",
       "      <td>Fullmetal Alchemist: Brotherhood</td>\n",
       "      <td>Action, Adventure, Drama, Fantasy, Magic, Mili...</td>\n",
       "      <td>1</td>\n",
       "      <td>64</td>\n",
       "      <td>9.26</td>\n",
       "      <td>793665</td>\n",
       "    </tr>\n",
       "    <tr>\n",
       "      <th>2</th>\n",
       "      <td>28977</td>\n",
       "      <td>Gintama°</td>\n",
       "      <td>Action, Comedy, Historical, Parody, Samurai, S...</td>\n",
       "      <td>1</td>\n",
       "      <td>51</td>\n",
       "      <td>9.25</td>\n",
       "      <td>114262</td>\n",
       "    </tr>\n",
       "    <tr>\n",
       "      <th>3</th>\n",
       "      <td>9253</td>\n",
       "      <td>Steins;Gate</td>\n",
       "      <td>Sci-Fi, Thriller</td>\n",
       "      <td>1</td>\n",
       "      <td>24</td>\n",
       "      <td>9.17</td>\n",
       "      <td>673572</td>\n",
       "    </tr>\n",
       "    <tr>\n",
       "      <th>4</th>\n",
       "      <td>9969</td>\n",
       "      <td>Gintama&amp;#039;</td>\n",
       "      <td>Action, Comedy, Historical, Parody, Samurai, S...</td>\n",
       "      <td>1</td>\n",
       "      <td>51</td>\n",
       "      <td>9.16</td>\n",
       "      <td>151266</td>\n",
       "    </tr>\n",
       "  </tbody>\n",
       "</table>\n",
       "</div>"
      ],
      "text/plain": [
       "   anime_id                              name  \\\n",
       "0     32281                    Kimi no Na wa.   \n",
       "1      5114  Fullmetal Alchemist: Brotherhood   \n",
       "2     28977                          Gintama°   \n",
       "3      9253                       Steins;Gate   \n",
       "4      9969                     Gintama&#039;   \n",
       "\n",
       "                                               genre  type  episodes  rating  \\\n",
       "0               Drama, Romance, School, Supernatural     0         1    9.37   \n",
       "1  Action, Adventure, Drama, Fantasy, Magic, Mili...     1        64    9.26   \n",
       "2  Action, Comedy, Historical, Parody, Samurai, S...     1        51    9.25   \n",
       "3                                   Sci-Fi, Thriller     1        24    9.17   \n",
       "4  Action, Comedy, Historical, Parody, Samurai, S...     1        51    9.16   \n",
       "\n",
       "   members  \n",
       "0   200630  \n",
       "1   793665  \n",
       "2   114262  \n",
       "3   673572  \n",
       "4   151266  "
      ]
     },
     "execution_count": 9,
     "metadata": {},
     "output_type": "execute_result"
    }
   ],
   "source": [
    "dfAnime.head(5)"
   ]
  },
  {
   "cell_type": "code",
   "execution_count": 39,
   "id": "e1d98864",
   "metadata": {},
   "outputs": [
    {
     "name": "stdout",
     "output_type": "stream",
     "text": [
      "Total unique genres are 44\n",
      "Occurances of unique genres :\n"
     ]
    },
    {
     "data": {
      "text/html": [
       "<style type=\"text/css\">\n",
       "#T_e9aab_row0_col0, #T_e9aab_row0_col1, #T_e9aab_row0_col2, #T_e9aab_row0_col3, #T_e9aab_row0_col4, #T_e9aab_row0_col5, #T_e9aab_row0_col6, #T_e9aab_row0_col7, #T_e9aab_row0_col8, #T_e9aab_row0_col9, #T_e9aab_row0_col10, #T_e9aab_row0_col11, #T_e9aab_row0_col12, #T_e9aab_row0_col13, #T_e9aab_row0_col14, #T_e9aab_row0_col15, #T_e9aab_row0_col16, #T_e9aab_row0_col17, #T_e9aab_row0_col18, #T_e9aab_row0_col19, #T_e9aab_row0_col20, #T_e9aab_row0_col21, #T_e9aab_row0_col22, #T_e9aab_row0_col23, #T_e9aab_row0_col24, #T_e9aab_row0_col25, #T_e9aab_row0_col26, #T_e9aab_row0_col27, #T_e9aab_row0_col28, #T_e9aab_row0_col29, #T_e9aab_row0_col30, #T_e9aab_row0_col31, #T_e9aab_row0_col32, #T_e9aab_row0_col33, #T_e9aab_row0_col34, #T_e9aab_row0_col35, #T_e9aab_row0_col36, #T_e9aab_row0_col37, #T_e9aab_row0_col38, #T_e9aab_row0_col39, #T_e9aab_row0_col40, #T_e9aab_row0_col41, #T_e9aab_row0_col42, #T_e9aab_row0_col43 {\n",
       "  background-color: #2a9d8f;\n",
       "  color: white;\n",
       "  border: 1.5px  solid black;\n",
       "}\n",
       "</style>\n",
       "<table id=\"T_e9aab\">\n",
       "  <thead>\n",
       "    <tr>\n",
       "      <th class=\"blank level0\" >&nbsp;</th>\n",
       "      <th id=\"T_e9aab_level0_col0\" class=\"col_heading level0 col0\" >Comedy</th>\n",
       "      <th id=\"T_e9aab_level0_col1\" class=\"col_heading level0 col1\" >Action</th>\n",
       "      <th id=\"T_e9aab_level0_col2\" class=\"col_heading level0 col2\" >Adventure</th>\n",
       "      <th id=\"T_e9aab_level0_col3\" class=\"col_heading level0 col3\" >Fantasy</th>\n",
       "      <th id=\"T_e9aab_level0_col4\" class=\"col_heading level0 col4\" >Sci-Fi</th>\n",
       "      <th id=\"T_e9aab_level0_col5\" class=\"col_heading level0 col5\" >Drama</th>\n",
       "      <th id=\"T_e9aab_level0_col6\" class=\"col_heading level0 col6\" >Shounen</th>\n",
       "      <th id=\"T_e9aab_level0_col7\" class=\"col_heading level0 col7\" >Kids</th>\n",
       "      <th id=\"T_e9aab_level0_col8\" class=\"col_heading level0 col8\" >Romance</th>\n",
       "      <th id=\"T_e9aab_level0_col9\" class=\"col_heading level0 col9\" >Slice Of Life</th>\n",
       "      <th id=\"T_e9aab_level0_col10\" class=\"col_heading level0 col10\" >School</th>\n",
       "      <th id=\"T_e9aab_level0_col11\" class=\"col_heading level0 col11\" >Hentai</th>\n",
       "      <th id=\"T_e9aab_level0_col12\" class=\"col_heading level0 col12\" >Supernatural</th>\n",
       "      <th id=\"T_e9aab_level0_col13\" class=\"col_heading level0 col13\" >Mecha</th>\n",
       "      <th id=\"T_e9aab_level0_col14\" class=\"col_heading level0 col14\" >Historical</th>\n",
       "      <th id=\"T_e9aab_level0_col15\" class=\"col_heading level0 col15\" >Magic</th>\n",
       "      <th id=\"T_e9aab_level0_col16\" class=\"col_heading level0 col16\" >Ecchi</th>\n",
       "      <th id=\"T_e9aab_level0_col17\" class=\"col_heading level0 col17\" >Shoujo</th>\n",
       "      <th id=\"T_e9aab_level0_col18\" class=\"col_heading level0 col18\" >Music</th>\n",
       "      <th id=\"T_e9aab_level0_col19\" class=\"col_heading level0 col19\" >Seinen</th>\n",
       "      <th id=\"T_e9aab_level0_col20\" class=\"col_heading level0 col20\" >Sports</th>\n",
       "      <th id=\"T_e9aab_level0_col21\" class=\"col_heading level0 col21\" >Mystery</th>\n",
       "      <th id=\"T_e9aab_level0_col22\" class=\"col_heading level0 col22\" >Super Power</th>\n",
       "      <th id=\"T_e9aab_level0_col23\" class=\"col_heading level0 col23\" >Military</th>\n",
       "      <th id=\"T_e9aab_level0_col24\" class=\"col_heading level0 col24\" >Parody</th>\n",
       "      <th id=\"T_e9aab_level0_col25\" class=\"col_heading level0 col25\" >Space</th>\n",
       "      <th id=\"T_e9aab_level0_col26\" class=\"col_heading level0 col26\" >Horror</th>\n",
       "      <th id=\"T_e9aab_level0_col27\" class=\"col_heading level0 col27\" >Harem</th>\n",
       "      <th id=\"T_e9aab_level0_col28\" class=\"col_heading level0 col28\" >4</th>\n",
       "      <th id=\"T_e9aab_level0_col29\" class=\"col_heading level0 col29\" >Demons</th>\n",
       "      <th id=\"T_e9aab_level0_col30\" class=\"col_heading level0 col30\" >Martial Arts</th>\n",
       "      <th id=\"T_e9aab_level0_col31\" class=\"col_heading level0 col31\" >Dementia</th>\n",
       "      <th id=\"T_e9aab_level0_col32\" class=\"col_heading level0 col32\" >Psychological</th>\n",
       "      <th id=\"T_e9aab_level0_col33\" class=\"col_heading level0 col33\" >Police</th>\n",
       "      <th id=\"T_e9aab_level0_col34\" class=\"col_heading level0 col34\" >Game</th>\n",
       "      <th id=\"T_e9aab_level0_col35\" class=\"col_heading level0 col35\" >Samurai</th>\n",
       "      <th id=\"T_e9aab_level0_col36\" class=\"col_heading level0 col36\" >Vampire</th>\n",
       "      <th id=\"T_e9aab_level0_col37\" class=\"col_heading level0 col37\" >Thriller</th>\n",
       "      <th id=\"T_e9aab_level0_col38\" class=\"col_heading level0 col38\" >Cars</th>\n",
       "      <th id=\"T_e9aab_level0_col39\" class=\"col_heading level0 col39\" >Shounen Ai</th>\n",
       "      <th id=\"T_e9aab_level0_col40\" class=\"col_heading level0 col40\" >Shoujo Ai</th>\n",
       "      <th id=\"T_e9aab_level0_col41\" class=\"col_heading level0 col41\" >Josei</th>\n",
       "      <th id=\"T_e9aab_level0_col42\" class=\"col_heading level0 col42\" >Yuri</th>\n",
       "      <th id=\"T_e9aab_level0_col43\" class=\"col_heading level0 col43\" >Yaoi</th>\n",
       "    </tr>\n",
       "  </thead>\n",
       "  <tbody>\n",
       "    <tr>\n",
       "      <th id=\"T_e9aab_level0_row0\" class=\"row_heading level0 row0\" >genre</th>\n",
       "      <td id=\"T_e9aab_row0_col0\" class=\"data row0 col0\" >4483</td>\n",
       "      <td id=\"T_e9aab_row0_col1\" class=\"data row0 col1\" >2748</td>\n",
       "      <td id=\"T_e9aab_row0_col2\" class=\"data row0 col2\" >2293</td>\n",
       "      <td id=\"T_e9aab_row0_col3\" class=\"data row0 col3\" >2219</td>\n",
       "      <td id=\"T_e9aab_row0_col4\" class=\"data row0 col4\" >2028</td>\n",
       "      <td id=\"T_e9aab_row0_col5\" class=\"data row0 col5\" >1972</td>\n",
       "      <td id=\"T_e9aab_row0_col6\" class=\"data row0 col6\" >1669</td>\n",
       "      <td id=\"T_e9aab_row0_col7\" class=\"data row0 col7\" >1550</td>\n",
       "      <td id=\"T_e9aab_row0_col8\" class=\"data row0 col8\" >1436</td>\n",
       "      <td id=\"T_e9aab_row0_col9\" class=\"data row0 col9\" >1180</td>\n",
       "      <td id=\"T_e9aab_row0_col10\" class=\"data row0 col10\" >1164</td>\n",
       "      <td id=\"T_e9aab_row0_col11\" class=\"data row0 col11\" >1099</td>\n",
       "      <td id=\"T_e9aab_row0_col12\" class=\"data row0 col12\" >993</td>\n",
       "      <td id=\"T_e9aab_row0_col13\" class=\"data row0 col13\" >927</td>\n",
       "      <td id=\"T_e9aab_row0_col14\" class=\"data row0 col14\" >787</td>\n",
       "      <td id=\"T_e9aab_row0_col15\" class=\"data row0 col15\" >742</td>\n",
       "      <td id=\"T_e9aab_row0_col16\" class=\"data row0 col16\" >627</td>\n",
       "      <td id=\"T_e9aab_row0_col17\" class=\"data row0 col17\" >587</td>\n",
       "      <td id=\"T_e9aab_row0_col18\" class=\"data row0 col18\" >535</td>\n",
       "      <td id=\"T_e9aab_row0_col19\" class=\"data row0 col19\" >530</td>\n",
       "      <td id=\"T_e9aab_row0_col20\" class=\"data row0 col20\" >527</td>\n",
       "      <td id=\"T_e9aab_row0_col21\" class=\"data row0 col21\" >482</td>\n",
       "      <td id=\"T_e9aab_row0_col22\" class=\"data row0 col22\" >445</td>\n",
       "      <td id=\"T_e9aab_row0_col23\" class=\"data row0 col23\" >415</td>\n",
       "      <td id=\"T_e9aab_row0_col24\" class=\"data row0 col24\" >397</td>\n",
       "      <td id=\"T_e9aab_row0_col25\" class=\"data row0 col25\" >376</td>\n",
       "      <td id=\"T_e9aab_row0_col26\" class=\"data row0 col26\" >360</td>\n",
       "      <td id=\"T_e9aab_row0_col27\" class=\"data row0 col27\" >312</td>\n",
       "      <td id=\"T_e9aab_row0_col28\" class=\"data row0 col28\" >297</td>\n",
       "      <td id=\"T_e9aab_row0_col29\" class=\"data row0 col29\" >287</td>\n",
       "      <td id=\"T_e9aab_row0_col30\" class=\"data row0 col30\" >258</td>\n",
       "      <td id=\"T_e9aab_row0_col31\" class=\"data row0 col31\" >238</td>\n",
       "      <td id=\"T_e9aab_row0_col32\" class=\"data row0 col32\" >226</td>\n",
       "      <td id=\"T_e9aab_row0_col33\" class=\"data row0 col33\" >194</td>\n",
       "      <td id=\"T_e9aab_row0_col34\" class=\"data row0 col34\" >170</td>\n",
       "      <td id=\"T_e9aab_row0_col35\" class=\"data row0 col35\" >145</td>\n",
       "      <td id=\"T_e9aab_row0_col36\" class=\"data row0 col36\" >100</td>\n",
       "      <td id=\"T_e9aab_row0_col37\" class=\"data row0 col37\" >86</td>\n",
       "      <td id=\"T_e9aab_row0_col38\" class=\"data row0 col38\" >71</td>\n",
       "      <td id=\"T_e9aab_row0_col39\" class=\"data row0 col39\" >62</td>\n",
       "      <td id=\"T_e9aab_row0_col40\" class=\"data row0 col40\" >54</td>\n",
       "      <td id=\"T_e9aab_row0_col41\" class=\"data row0 col41\" >52</td>\n",
       "      <td id=\"T_e9aab_row0_col42\" class=\"data row0 col42\" >41</td>\n",
       "      <td id=\"T_e9aab_row0_col43\" class=\"data row0 col43\" >37</td>\n",
       "    </tr>\n",
       "  </tbody>\n",
       "</table>\n"
      ],
      "text/plain": [
       "<pandas.io.formats.style.Styler at 0x24f01559f40>"
      ]
     },
     "execution_count": 39,
     "metadata": {},
     "output_type": "execute_result"
    }
   ],
   "source": [
    "genreCount = dfAnime[[\"genre\"]]\n",
    "genreCount[\"genre\"] = genreCount[\"genre\"].str.split(\", | , | ,\")\n",
    "genreCount = genreCount.explode(\"genre\")\n",
    "genreCount[\"genre\"] = genreCount[\"genre\"].str.title()\n",
    "\n",
    "print(f'Total unique genres are {len(genreCount[\"genre\"].unique())}')\n",
    "print(f'Occurances of unique genres :')\n",
    "genreCount[\"genre\"].value_counts().to_frame().T.style.set_properties(**{\"background-color\": \"#2a9d8f\",\"color\":\"white\",\"border\": \"1.5px  solid black\"})"
   ]
  },
  {
   "cell_type": "code",
   "execution_count": 138,
   "id": "3a392811",
   "metadata": {},
   "outputs": [],
   "source": [
    "def createNewColumn(colname):\n",
    "    dfAnime[colname] = np.where(dfAnime.genre.str.contains(colname),1,0)\n",
    "    dfAnime[colname] = dfAnime[colname].astype(category)"
   ]
  },
  {
   "cell_type": "code",
   "execution_count": 124,
   "id": "bee312cb",
   "metadata": {},
   "outputs": [],
   "source": [
    "def containsGenre(dfInfo,word):  \n",
    "    if str(dfAnime[\"genre\"]).find(word):\n",
    "        return 1\n",
    "    return 0"
   ]
  },
  {
   "cell_type": "code",
   "execution_count": 139,
   "id": "1e6ad5c0",
   "metadata": {},
   "outputs": [
    {
     "name": "stdout",
     "output_type": "stream",
     "text": [
      "Comedy\n"
     ]
    },
    {
     "ename": "NameError",
     "evalue": "name 'category' is not defined",
     "output_type": "error",
     "traceback": [
      "\u001b[1;31m---------------------------------------------------------------------------\u001b[0m",
      "\u001b[1;31mNameError\u001b[0m                                 Traceback (most recent call last)",
      "Input \u001b[1;32mIn [139]\u001b[0m, in \u001b[0;36m<cell line: 2>\u001b[1;34m()\u001b[0m\n\u001b[0;32m      2\u001b[0m \u001b[38;5;28;01mfor\u001b[39;00m i \u001b[38;5;129;01min\u001b[39;00m \u001b[38;5;28mrange\u001b[39m(\u001b[38;5;241m15\u001b[39m):\n\u001b[0;32m      3\u001b[0m     \u001b[38;5;28mprint\u001b[39m(genreCount[\u001b[38;5;124m\"\u001b[39m\u001b[38;5;124mgenre\u001b[39m\u001b[38;5;124m\"\u001b[39m]\u001b[38;5;241m.\u001b[39mvalue_counts()\u001b[38;5;241m.\u001b[39mindex\u001b[38;5;241m.\u001b[39mtolist()[i])\n\u001b[1;32m----> 4\u001b[0m     \u001b[43mcreateNewColumn\u001b[49m\u001b[43m(\u001b[49m\u001b[43mgenreCount\u001b[49m\u001b[43m[\u001b[49m\u001b[38;5;124;43m\"\u001b[39;49m\u001b[38;5;124;43mgenre\u001b[39;49m\u001b[38;5;124;43m\"\u001b[39;49m\u001b[43m]\u001b[49m\u001b[38;5;241;43m.\u001b[39;49m\u001b[43mvalue_counts\u001b[49m\u001b[43m(\u001b[49m\u001b[43m)\u001b[49m\u001b[38;5;241;43m.\u001b[39;49m\u001b[43mindex\u001b[49m\u001b[38;5;241;43m.\u001b[39;49m\u001b[43mtolist\u001b[49m\u001b[43m(\u001b[49m\u001b[43m)\u001b[49m\u001b[43m[\u001b[49m\u001b[43mi\u001b[49m\u001b[43m]\u001b[49m\u001b[43m)\u001b[49m\n",
      "Input \u001b[1;32mIn [138]\u001b[0m, in \u001b[0;36mcreateNewColumn\u001b[1;34m(colname)\u001b[0m\n\u001b[0;32m      1\u001b[0m \u001b[38;5;28;01mdef\u001b[39;00m \u001b[38;5;21mcreateNewColumn\u001b[39m(colname):\n\u001b[0;32m      2\u001b[0m     dfAnime[colname] \u001b[38;5;241m=\u001b[39m np\u001b[38;5;241m.\u001b[39mwhere(dfAnime\u001b[38;5;241m.\u001b[39mgenre\u001b[38;5;241m.\u001b[39mstr\u001b[38;5;241m.\u001b[39mcontains(colname),\u001b[38;5;241m1\u001b[39m,\u001b[38;5;241m0\u001b[39m)\n\u001b[1;32m----> 3\u001b[0m     dfAnime[colname] \u001b[38;5;241m=\u001b[39m dfAnime[colname]\u001b[38;5;241m.\u001b[39mastype(\u001b[43mcategory\u001b[49m)\n",
      "\u001b[1;31mNameError\u001b[0m: name 'category' is not defined"
     ]
    }
   ],
   "source": [
    "#Partir aqui las categorias\n",
    "for i in range(15):\n",
    "    print(genreCount[\"genre\"].value_counts().index.tolist()[i])\n",
    "    createNewColumn(genreCount[\"genre\"].value_counts().index.tolist()[i])\n",
    "\n",
    "#df['colF'] = df.apply(lambda row: categorise(row), axis=1)"
   ]
  },
  {
   "cell_type": "code",
   "execution_count": 137,
   "id": "9c438d80",
   "metadata": {},
   "outputs": [
    {
     "data": {
      "text/html": [
       "<div>\n",
       "<style scoped>\n",
       "    .dataframe tbody tr th:only-of-type {\n",
       "        vertical-align: middle;\n",
       "    }\n",
       "\n",
       "    .dataframe tbody tr th {\n",
       "        vertical-align: top;\n",
       "    }\n",
       "\n",
       "    .dataframe thead th {\n",
       "        text-align: right;\n",
       "    }\n",
       "</style>\n",
       "<table border=\"1\" class=\"dataframe\">\n",
       "  <thead>\n",
       "    <tr style=\"text-align: right;\">\n",
       "      <th></th>\n",
       "      <th>anime_id</th>\n",
       "      <th>name</th>\n",
       "      <th>genre</th>\n",
       "      <th>type</th>\n",
       "      <th>episodes</th>\n",
       "      <th>rating</th>\n",
       "      <th>members</th>\n",
       "      <th>Comedy</th>\n",
       "      <th>Action</th>\n",
       "      <th>Adventure</th>\n",
       "      <th>...</th>\n",
       "      <th>Drama</th>\n",
       "      <th>Shounen</th>\n",
       "      <th>Kids</th>\n",
       "      <th>Romance</th>\n",
       "      <th>Slice Of Life</th>\n",
       "      <th>School</th>\n",
       "      <th>Hentai</th>\n",
       "      <th>Supernatural</th>\n",
       "      <th>Mecha</th>\n",
       "      <th>Historical</th>\n",
       "    </tr>\n",
       "  </thead>\n",
       "  <tbody>\n",
       "    <tr>\n",
       "      <th>0</th>\n",
       "      <td>32281</td>\n",
       "      <td>Kimi no Na wa.</td>\n",
       "      <td>Drama, Romance, School, Supernatural</td>\n",
       "      <td>0</td>\n",
       "      <td>1</td>\n",
       "      <td>9.37</td>\n",
       "      <td>200630</td>\n",
       "      <td>0</td>\n",
       "      <td>0</td>\n",
       "      <td>0</td>\n",
       "      <td>...</td>\n",
       "      <td>1</td>\n",
       "      <td>0</td>\n",
       "      <td>0</td>\n",
       "      <td>1</td>\n",
       "      <td>0</td>\n",
       "      <td>1</td>\n",
       "      <td>0</td>\n",
       "      <td>1</td>\n",
       "      <td>0</td>\n",
       "      <td>0</td>\n",
       "    </tr>\n",
       "    <tr>\n",
       "      <th>1</th>\n",
       "      <td>5114</td>\n",
       "      <td>Fullmetal Alchemist: Brotherhood</td>\n",
       "      <td>Action, Adventure, Drama, Fantasy, Magic, Mili...</td>\n",
       "      <td>1</td>\n",
       "      <td>64</td>\n",
       "      <td>9.26</td>\n",
       "      <td>793665</td>\n",
       "      <td>0</td>\n",
       "      <td>1</td>\n",
       "      <td>1</td>\n",
       "      <td>...</td>\n",
       "      <td>1</td>\n",
       "      <td>1</td>\n",
       "      <td>0</td>\n",
       "      <td>0</td>\n",
       "      <td>0</td>\n",
       "      <td>0</td>\n",
       "      <td>0</td>\n",
       "      <td>0</td>\n",
       "      <td>0</td>\n",
       "      <td>0</td>\n",
       "    </tr>\n",
       "    <tr>\n",
       "      <th>2</th>\n",
       "      <td>28977</td>\n",
       "      <td>Gintama°</td>\n",
       "      <td>Action, Comedy, Historical, Parody, Samurai, S...</td>\n",
       "      <td>1</td>\n",
       "      <td>51</td>\n",
       "      <td>9.25</td>\n",
       "      <td>114262</td>\n",
       "      <td>1</td>\n",
       "      <td>1</td>\n",
       "      <td>0</td>\n",
       "      <td>...</td>\n",
       "      <td>0</td>\n",
       "      <td>1</td>\n",
       "      <td>0</td>\n",
       "      <td>0</td>\n",
       "      <td>0</td>\n",
       "      <td>0</td>\n",
       "      <td>0</td>\n",
       "      <td>0</td>\n",
       "      <td>0</td>\n",
       "      <td>1</td>\n",
       "    </tr>\n",
       "    <tr>\n",
       "      <th>3</th>\n",
       "      <td>9253</td>\n",
       "      <td>Steins;Gate</td>\n",
       "      <td>Sci-Fi, Thriller</td>\n",
       "      <td>1</td>\n",
       "      <td>24</td>\n",
       "      <td>9.17</td>\n",
       "      <td>673572</td>\n",
       "      <td>0</td>\n",
       "      <td>0</td>\n",
       "      <td>0</td>\n",
       "      <td>...</td>\n",
       "      <td>0</td>\n",
       "      <td>0</td>\n",
       "      <td>0</td>\n",
       "      <td>0</td>\n",
       "      <td>0</td>\n",
       "      <td>0</td>\n",
       "      <td>0</td>\n",
       "      <td>0</td>\n",
       "      <td>0</td>\n",
       "      <td>0</td>\n",
       "    </tr>\n",
       "    <tr>\n",
       "      <th>4</th>\n",
       "      <td>9969</td>\n",
       "      <td>Gintama&amp;#039;</td>\n",
       "      <td>Action, Comedy, Historical, Parody, Samurai, S...</td>\n",
       "      <td>1</td>\n",
       "      <td>51</td>\n",
       "      <td>9.16</td>\n",
       "      <td>151266</td>\n",
       "      <td>1</td>\n",
       "      <td>1</td>\n",
       "      <td>0</td>\n",
       "      <td>...</td>\n",
       "      <td>0</td>\n",
       "      <td>1</td>\n",
       "      <td>0</td>\n",
       "      <td>0</td>\n",
       "      <td>0</td>\n",
       "      <td>0</td>\n",
       "      <td>0</td>\n",
       "      <td>0</td>\n",
       "      <td>0</td>\n",
       "      <td>1</td>\n",
       "    </tr>\n",
       "  </tbody>\n",
       "</table>\n",
       "<p>5 rows × 22 columns</p>\n",
       "</div>"
      ],
      "text/plain": [
       "   anime_id                              name  \\\n",
       "0     32281                    Kimi no Na wa.   \n",
       "1      5114  Fullmetal Alchemist: Brotherhood   \n",
       "2     28977                          Gintama°   \n",
       "3      9253                       Steins;Gate   \n",
       "4      9969                     Gintama&#039;   \n",
       "\n",
       "                                               genre  type  episodes  rating  \\\n",
       "0               Drama, Romance, School, Supernatural     0         1    9.37   \n",
       "1  Action, Adventure, Drama, Fantasy, Magic, Mili...     1        64    9.26   \n",
       "2  Action, Comedy, Historical, Parody, Samurai, S...     1        51    9.25   \n",
       "3                                   Sci-Fi, Thriller     1        24    9.17   \n",
       "4  Action, Comedy, Historical, Parody, Samurai, S...     1        51    9.16   \n",
       "\n",
       "   members  Comedy  Action  Adventure  ...  Drama  Shounen  Kids  Romance  \\\n",
       "0   200630       0       0          0  ...      1        0     0        1   \n",
       "1   793665       0       1          1  ...      1        1     0        0   \n",
       "2   114262       1       1          0  ...      0        1     0        0   \n",
       "3   673572       0       0          0  ...      0        0     0        0   \n",
       "4   151266       1       1          0  ...      0        1     0        0   \n",
       "\n",
       "   Slice Of Life  School  Hentai  Supernatural  Mecha  Historical  \n",
       "0              0       1       0             1      0           0  \n",
       "1              0       0       0             0      0           0  \n",
       "2              0       0       0             0      0           1  \n",
       "3              0       0       0             0      0           0  \n",
       "4              0       0       0             0      0           1  \n",
       "\n",
       "[5 rows x 22 columns]"
      ]
     },
     "execution_count": 137,
     "metadata": {},
     "output_type": "execute_result"
    }
   ],
   "source": [
    "dfAnime.head(5)"
   ]
  },
  {
   "cell_type": "markdown",
   "id": "727ce1f8",
   "metadata": {},
   "source": [
    "### rating.csv"
   ]
  },
  {
   "cell_type": "code",
   "execution_count": 13,
   "id": "47cbb7e0",
   "metadata": {},
   "outputs": [
    {
     "name": "stdout",
     "output_type": "stream",
     "text": [
      "La cantidad de datos nulos es:\n"
     ]
    },
    {
     "data": {
      "text/html": [
       "<style type=\"text/css\">\n",
       "#T_b0fed_row0_col0, #T_b0fed_row0_col1, #T_b0fed_row0_col2 {\n",
       "  background-color: #2a9d8f;\n",
       "  color: white;\n",
       "  border: 1.5px  solid black;\n",
       "}\n",
       "</style>\n",
       "<table id=\"T_b0fed\">\n",
       "  <thead>\n",
       "    <tr>\n",
       "      <th class=\"blank level0\" >&nbsp;</th>\n",
       "      <th id=\"T_b0fed_level0_col0\" class=\"col_heading level0 col0\" >user_id</th>\n",
       "      <th id=\"T_b0fed_level0_col1\" class=\"col_heading level0 col1\" >anime_id</th>\n",
       "      <th id=\"T_b0fed_level0_col2\" class=\"col_heading level0 col2\" >rating</th>\n",
       "    </tr>\n",
       "  </thead>\n",
       "  <tbody>\n",
       "    <tr>\n",
       "      <th id=\"T_b0fed_level0_row0\" class=\"row_heading level0 row0\" >0</th>\n",
       "      <td id=\"T_b0fed_row0_col0\" class=\"data row0 col0\" >0</td>\n",
       "      <td id=\"T_b0fed_row0_col1\" class=\"data row0 col1\" >0</td>\n",
       "      <td id=\"T_b0fed_row0_col2\" class=\"data row0 col2\" >0</td>\n",
       "    </tr>\n",
       "  </tbody>\n",
       "</table>\n"
      ],
      "text/plain": [
       "<pandas.io.formats.style.Styler at 0x24f58254a30>"
      ]
     },
     "execution_count": 13,
     "metadata": {},
     "output_type": "execute_result"
    }
   ],
   "source": [
    "print(\"La cantidad de datos nulos es:\")\n",
    "dfRating.isna().sum().to_frame().T.style.set_properties(**{\"background-color\": \"#2a9d8f\",\"color\":\"white\",\"border\": \"1.5px  solid black\"})"
   ]
  },
  {
   "cell_type": "code",
   "execution_count": 14,
   "id": "b25f6af2",
   "metadata": {},
   "outputs": [],
   "source": [
    "#Eliminamos los -1 porque indican cuando no se califico un anime y siendo asi entonces no nos sirve\n",
    "dfRating = dfRating[dfRating.rating != -1]"
   ]
  },
  {
   "cell_type": "code",
   "execution_count": 15,
   "id": "839cb511",
   "metadata": {},
   "outputs": [
    {
     "name": "stdout",
     "output_type": "stream",
     "text": [
      "Numero de datos duplicados  1\n"
     ]
    }
   ],
   "source": [
    "duplicados = dfRating[dfRating.duplicated()].shape[0]\n",
    "print(\"Numero de datos duplicados \",duplicados)"
   ]
  },
  {
   "cell_type": "code",
   "execution_count": 16,
   "id": "55872b15",
   "metadata": {},
   "outputs": [
    {
     "name": "stdout",
     "output_type": "stream",
     "text": [
      "Numero de datos duplicados  0\n"
     ]
    }
   ],
   "source": [
    "dfRating.drop_duplicates(keep='first',inplace=True)\n",
    "duplicados = dfRating[dfRating.duplicated()].shape[0]\n",
    "print(\"Numero de datos duplicados \",duplicados)"
   ]
  },
  {
   "cell_type": "code",
   "execution_count": 17,
   "id": "a68a4da4",
   "metadata": {},
   "outputs": [
    {
     "data": {
      "text/html": [
       "<div>\n",
       "<style scoped>\n",
       "    .dataframe tbody tr th:only-of-type {\n",
       "        vertical-align: middle;\n",
       "    }\n",
       "\n",
       "    .dataframe tbody tr th {\n",
       "        vertical-align: top;\n",
       "    }\n",
       "\n",
       "    .dataframe thead th {\n",
       "        text-align: right;\n",
       "    }\n",
       "</style>\n",
       "<table border=\"1\" class=\"dataframe\">\n",
       "  <thead>\n",
       "    <tr style=\"text-align: right;\">\n",
       "      <th></th>\n",
       "      <th>user_id</th>\n",
       "      <th>anime_id</th>\n",
       "      <th>rating</th>\n",
       "    </tr>\n",
       "  </thead>\n",
       "  <tbody>\n",
       "    <tr>\n",
       "      <th>47</th>\n",
       "      <td>1</td>\n",
       "      <td>8074</td>\n",
       "      <td>10</td>\n",
       "    </tr>\n",
       "    <tr>\n",
       "      <th>81</th>\n",
       "      <td>1</td>\n",
       "      <td>11617</td>\n",
       "      <td>10</td>\n",
       "    </tr>\n",
       "    <tr>\n",
       "      <th>83</th>\n",
       "      <td>1</td>\n",
       "      <td>11757</td>\n",
       "      <td>10</td>\n",
       "    </tr>\n",
       "    <tr>\n",
       "      <th>101</th>\n",
       "      <td>1</td>\n",
       "      <td>15451</td>\n",
       "      <td>10</td>\n",
       "    </tr>\n",
       "    <tr>\n",
       "      <th>153</th>\n",
       "      <td>2</td>\n",
       "      <td>11771</td>\n",
       "      <td>10</td>\n",
       "    </tr>\n",
       "  </tbody>\n",
       "</table>\n",
       "</div>"
      ],
      "text/plain": [
       "     user_id  anime_id  rating\n",
       "47         1      8074      10\n",
       "81         1     11617      10\n",
       "83         1     11757      10\n",
       "101        1     15451      10\n",
       "153        2     11771      10"
      ]
     },
     "execution_count": 17,
     "metadata": {},
     "output_type": "execute_result"
    }
   ],
   "source": [
    "dfRating.head(5)"
   ]
  },
  {
   "cell_type": "code",
   "execution_count": 18,
   "id": "d3e67060",
   "metadata": {},
   "outputs": [
    {
     "name": "stdout",
     "output_type": "stream",
     "text": [
      "<class 'pandas.core.frame.DataFrame'>\n",
      "Int64Index: 6337240 entries, 47 to 7813736\n",
      "Data columns (total 3 columns):\n",
      " #   Column    Dtype\n",
      "---  ------    -----\n",
      " 0   user_id   int64\n",
      " 1   anime_id  int64\n",
      " 2   rating    int64\n",
      "dtypes: int64(3)\n",
      "memory usage: 193.4 MB\n"
     ]
    }
   ],
   "source": [
    "dfRating.info()"
   ]
  },
  {
   "cell_type": "markdown",
   "id": "0d22c476",
   "metadata": {},
   "source": [
    "## **Histogramas**"
   ]
  },
  {
   "cell_type": "code",
   "execution_count": 19,
   "id": "97b76fbb",
   "metadata": {},
   "outputs": [
    {
     "data": {
      "text/plain": [
       "array([[<AxesSubplot:title={'center':'type'}>]], dtype=object)"
      ]
     },
     "execution_count": 19,
     "metadata": {},
     "output_type": "execute_result"
    },
    {
     "data": {
      "image/png": "[encoded data removed]",
      "text/plain": [
       "<Figure size 720x720 with 1 Axes>"
      ]
     },
     "metadata": {},
     "output_type": "display_data"
    }
   ],
   "source": [
    "#Generemos algunas gráficas directamente desde pandas.\n",
    "atr = 'type'\n",
    "num_bins = 30 #Número de columnas del histograma\n",
    "dfAnime.hist(column=atr,range=[0, 3], bins=num_bins, figsize=(10,10))  #Histograma."
   ]
  },
  {
   "cell_type": "markdown",
   "id": "007d5581",
   "metadata": {},
   "source": [
    "+ Observamos que aquellos tipos de anime que mas aparecen son \"TV\" y \"OVA\""
   ]
  },
  {
   "cell_type": "code",
   "execution_count": 20,
   "id": "9da6fd7a",
   "metadata": {},
   "outputs": [
    {
     "data": {
      "text/plain": [
       "array([[<AxesSubplot:title={'center':'episodes'}>]], dtype=object)"
      ]
     },
     "execution_count": 20,
     "metadata": {},
     "output_type": "execute_result"
    },
    {
     "data": {
      "image/png": "[encoded data removed]",
      "text/plain": [
       "<Figure size 720x720 with 1 Axes>"
      ]
     },
     "metadata": {},
     "output_type": "display_data"
    }
   ],
   "source": [
    "#Generemos algunas gráficas directamente desde pandas.\n",
    "atr = 'episodes'\n",
    "num_bins = 30 #Número de columnas del histograma\n",
    "dfAnime.hist(column=atr,range=[1, 210], bins=num_bins, figsize=(10,10))  #Histograma."
   ]
  },
  {
   "cell_type": "markdown",
   "id": "4b20ac85",
   "metadata": {},
   "source": [
    "+ Como se puede observar hay una gran cantidad de valores en 1, esto es debido a que muchos de los animes son peliculas u ovas por lo que solo cuentan con un episodio tecnicamente"
   ]
  },
  {
   "cell_type": "code",
   "execution_count": 21,
   "id": "81faecc7",
   "metadata": {},
   "outputs": [
    {
     "data": {
      "text/plain": [
       "array([[<AxesSubplot:title={'center':'rating'}>]], dtype=object)"
      ]
     },
     "execution_count": 21,
     "metadata": {},
     "output_type": "execute_result"
    },
    {
     "data": {
      "image/png": "[encoded data removed]",
      "text/plain": [
       "<Figure size 720x720 with 1 Axes>"
      ]
     },
     "metadata": {},
     "output_type": "display_data"
    }
   ],
   "source": [
    "#Generemos algunas gráficas directamente desde pandas.\n",
    "atr = 'rating'\n",
    "num_bins = 30 #Número de columnas del histograma\n",
    "dfAnime.hist(column=atr,range=[0, 10], bins=num_bins, figsize=(10,10))  #Histograma."
   ]
  },
  {
   "cell_type": "markdown",
   "id": "efb84330",
   "metadata": {},
   "source": [
    "+ Entre 6 y 7 estan la mayoria de ratings"
   ]
  },
  {
   "cell_type": "code",
   "execution_count": 22,
   "id": "4e043bb3",
   "metadata": {},
   "outputs": [
    {
     "data": {
      "text/plain": [
       "array([[<AxesSubplot:title={'center':'members'}>]], dtype=object)"
      ]
     },
     "execution_count": 22,
     "metadata": {},
     "output_type": "execute_result"
    },
    {
     "data": {
      "image/png": "[encoded data removed]",
      "text/plain": [
       "<Figure size 720x720 with 1 Axes>"
      ]
     },
     "metadata": {},
     "output_type": "display_data"
    }
   ],
   "source": [
    "#Generemos algunas gráficas directamente desde pandas.\n",
    "atr = 'members'\n",
    "num_bins = 30 #Número de columnas del histograma\n",
    "dfAnime.hist(column=atr,range=[5, 101397], bins=num_bins, figsize=(10,10))\n",
    "#El rango es demasiado amplio, debemos disminuir el rango"
   ]
  },
  {
   "cell_type": "code",
   "execution_count": 23,
   "id": "290f40f3",
   "metadata": {},
   "outputs": [
    {
     "data": {
      "text/plain": [
       "array([[<AxesSubplot:title={'center':'members'}>]], dtype=object)"
      ]
     },
     "execution_count": 23,
     "metadata": {},
     "output_type": "execute_result"
    },
    {
     "data": {
      "image/png": "[encoded data removed]",
      "text/plain": [
       "<Figure size 720x720 with 1 Axes>"
      ]
     },
     "metadata": {},
     "output_type": "display_data"
    }
   ],
   "source": [
    "atr = 'members'\n",
    "num_bins = 30 #Número de columnas del histograma\n",
    "dfAnime.hist(column=atr,range=[5, 500], bins=num_bins, figsize=(10,10))"
   ]
  },
  {
   "cell_type": "markdown",
   "id": "bd47434f",
   "metadata": {},
   "source": [
    "+ Tener entre 20 y 80 miembros es lo mas comun para la mayoria de animes"
   ]
  },
  {
   "cell_type": "code",
   "execution_count": 24,
   "id": "e8396523",
   "metadata": {},
   "outputs": [
    {
     "data": {
      "text/plain": [
       "array([[<AxesSubplot:title={'center':'rating'}>]], dtype=object)"
      ]
     },
     "execution_count": 24,
     "metadata": {},
     "output_type": "execute_result"
    },
    {
     "data": {
      "image/png": "[encoded data removed]",
      "text/plain": [
       "<Figure size 720x720 with 1 Axes>"
      ]
     },
     "metadata": {},
     "output_type": "display_data"
    }
   ],
   "source": [
    "atr = 'rating'\n",
    "num_bins = 30 #Número de columnas del histograma\n",
    "dfRating.hist(column=atr,range=[0, 15], bins=num_bins, figsize=(10,10))"
   ]
  },
  {
   "cell_type": "markdown",
   "id": "7dab7109",
   "metadata": {},
   "source": [
    "+ La mayoria de usuarios puntua 8 a los animes"
   ]
  },
  {
   "cell_type": "markdown",
   "id": "8146be66",
   "metadata": {},
   "source": [
    "## **Busqueda y eliminacion de outliers**"
   ]
  },
  {
   "cell_type": "markdown",
   "id": "fc11f3be",
   "metadata": {},
   "source": [
    "Dada la naturaleza de las variables involucradas, solo tiene sentido analizar los outliers de los episodios y los miembros"
   ]
  },
  {
   "cell_type": "code",
   "execution_count": 25,
   "id": "c44712fa",
   "metadata": {},
   "outputs": [
    {
     "data": {
      "image/png": "[encoded data removed]",
      "text/plain": [
       "<Figure size 576x396 with 1 Axes>"
      ]
     },
     "metadata": {},
     "output_type": "display_data"
    }
   ],
   "source": [
    "atr = 'episodes'\n",
    "sns.set_theme(style=\"whitegrid\")\n",
    "ax = sns.boxplot(x=dfAnime[atr])"
   ]
  },
  {
   "cell_type": "code",
   "execution_count": 26,
   "id": "8438ab05",
   "metadata": {},
   "outputs": [
    {
     "data": {
      "image/png": "[encoded data removed]",
      "text/plain": [
       "<Figure size 576x396 with 1 Axes>"
      ]
     },
     "metadata": {},
     "output_type": "display_data"
    }
   ],
   "source": [
    "atr = 'members'\n",
    "sns.set_theme(style=\"whitegrid\")\n",
    "ax = sns.boxplot(x=dfAnime[atr])"
   ]
  },
  {
   "cell_type": "markdown",
   "id": "eaf81c41",
   "metadata": {},
   "source": [
    "Se debe tener en cuenta que la base de datos cuenta con animes de todo tipo incluyendo peliculas, esto significa que muchos de los datos se veran alterados por esto, por ejemplo, la cantidad de episodios tiende a ser 1 si el anime es del tipo pelicula mientras que las series pueden llegar incluso a 100 episodios."
   ]
  },
  {
   "cell_type": "markdown",
   "id": "1b506c20",
   "metadata": {},
   "source": [
    "Por ello, es apropiado partir el dataframe en 2, uno para series de anime normales y otro para peliculas, ovas, etc."
   ]
  },
  {
   "cell_type": "code",
   "execution_count": 27,
   "id": "341ea597",
   "metadata": {},
   "outputs": [],
   "source": [
    "df_series = dfAnime.loc[dfAnime['type'] == 1]\n",
    "df_other_content = dfAnime.loc[dfAnime['type'] != 1]"
   ]
  },
  {
   "cell_type": "markdown",
   "id": "08d87c08",
   "metadata": {},
   "source": [
    "### Dataframe para series"
   ]
  },
  {
   "cell_type": "code",
   "execution_count": 28,
   "id": "680eef99",
   "metadata": {},
   "outputs": [],
   "source": [
    "q_low = df_series[\"episodes\"].quantile(0.25)\n",
    "q_hi  = df_series[\"episodes\"].quantile(0.75)\n",
    "iqr = q_hi - q_low\n",
    "\n",
    "lower = q_low - (1.5*iqr)\n",
    "high = q_hi + (1.5*iqr)\n",
    "\n",
    "df_series = df_series[(df_series[\"episodes\"] < high) & (df_series[\"episodes\"] > lower)]"
   ]
  },
  {
   "cell_type": "code",
   "execution_count": 29,
   "id": "11262aec",
   "metadata": {},
   "outputs": [],
   "source": [
    "q_low = df_series[\"members\"].quantile(0.25)\n",
    "q_hi  = df_series[\"members\"].quantile(0.75)\n",
    "iqr = q_hi - q_low\n",
    "\n",
    "lower = q_low - (1.5*iqr)\n",
    "high = q_hi + (1.5*iqr)\n",
    "\n",
    "df_series = df_series[(df_series[\"members\"] < high) & (df_series[\"members\"] > lower)]"
   ]
  },
  {
   "cell_type": "code",
   "execution_count": 30,
   "id": "a408e4de",
   "metadata": {},
   "outputs": [
    {
     "name": "stdout",
     "output_type": "stream",
     "text": [
      "<class 'pandas.core.frame.DataFrame'>\n",
      "Int64Index: 2999 entries, 2 to 10895\n",
      "Data columns (total 7 columns):\n",
      " #   Column    Non-Null Count  Dtype  \n",
      "---  ------    --------------  -----  \n",
      " 0   anime_id  2999 non-null   int64  \n",
      " 1   name      2999 non-null   string \n",
      " 2   genre     2999 non-null   string \n",
      " 3   type      2999 non-null   int32  \n",
      " 4   episodes  2999 non-null   int32  \n",
      " 5   rating    2999 non-null   float64\n",
      " 6   members   2999 non-null   int64  \n",
      "dtypes: float64(1), int32(2), int64(2), string(2)\n",
      "memory usage: 164.0 KB\n"
     ]
    }
   ],
   "source": [
    "df_series.info()"
   ]
  },
  {
   "cell_type": "code",
   "execution_count": 31,
   "id": "36e61dac",
   "metadata": {},
   "outputs": [
    {
     "data": {
      "image/png": "[encoded data removed]",
      "text/plain": [
       "<Figure size 576x396 with 1 Axes>"
      ]
     },
     "metadata": {},
     "output_type": "display_data"
    }
   ],
   "source": [
    "atr = 'episodes'\n",
    "sns.set_theme(style=\"whitegrid\")\n",
    "ax = sns.boxplot(x=df_series[atr])"
   ]
  },
  {
   "cell_type": "code",
   "execution_count": 32,
   "id": "97a0b13c",
   "metadata": {},
   "outputs": [
    {
     "data": {
      "image/png": "[encoded data removed]",
      "text/plain": [
       "<Figure size 576x396 with 1 Axes>"
      ]
     },
     "metadata": {},
     "output_type": "display_data"
    }
   ],
   "source": [
    "atr = 'members'\n",
    "sns.set_theme(style=\"whitegrid\")\n",
    "ax = sns.boxplot(x=df_series[atr])"
   ]
  },
  {
   "cell_type": "markdown",
   "id": "991b8e57",
   "metadata": {},
   "source": [
    "### Dataframe para otro contenido (peliculas, ovas, etc)"
   ]
  },
  {
   "cell_type": "code",
   "execution_count": 33,
   "id": "399de1fe",
   "metadata": {},
   "outputs": [],
   "source": [
    "q_low = df_other_content[\"episodes\"].quantile(0.25)\n",
    "q_hi  = df_other_content[\"episodes\"].quantile(0.75)\n",
    "iqr = q_hi - q_low\n",
    "\n",
    "lower = q_low - (1.5*iqr)\n",
    "high = q_hi + (1.5*iqr)\n",
    "\n",
    "df_other_content = df_other_content[(df_other_content[\"episodes\"] < high) & (df_other_content[\"episodes\"] > lower)]"
   ]
  },
  {
   "cell_type": "code",
   "execution_count": 34,
   "id": "210e43a4",
   "metadata": {},
   "outputs": [],
   "source": [
    "q_low = df_other_content[\"members\"].quantile(0.25)\n",
    "q_hi  = df_other_content[\"members\"].quantile(0.75)\n",
    "iqr = q_hi - q_low\n",
    "\n",
    "lower = q_low - (1.5*iqr)\n",
    "high = q_hi + (1.5*iqr)\n",
    "\n",
    "df_other_content = df_other_content[(df_other_content[\"members\"] < high) & (df_other_content[\"members\"] > lower)]"
   ]
  },
  {
   "cell_type": "code",
   "execution_count": 35,
   "id": "78ed132a",
   "metadata": {
    "scrolled": true
   },
   "outputs": [
    {
     "name": "stdout",
     "output_type": "stream",
     "text": [
      "<class 'pandas.core.frame.DataFrame'>\n",
      "Int64Index: 6059 entries, 205 to 12293\n",
      "Data columns (total 7 columns):\n",
      " #   Column    Non-Null Count  Dtype  \n",
      "---  ------    --------------  -----  \n",
      " 0   anime_id  6059 non-null   int64  \n",
      " 1   name      6059 non-null   string \n",
      " 2   genre     6059 non-null   string \n",
      " 3   type      6059 non-null   int32  \n",
      " 4   episodes  6059 non-null   int32  \n",
      " 5   rating    6059 non-null   float64\n",
      " 6   members   6059 non-null   int64  \n",
      "dtypes: float64(1), int32(2), int64(2), string(2)\n",
      "memory usage: 331.4 KB\n"
     ]
    }
   ],
   "source": [
    "df_other_content.info()"
   ]
  },
  {
   "cell_type": "code",
   "execution_count": 36,
   "id": "5df2388f",
   "metadata": {},
   "outputs": [
    {
     "data": {
      "image/png": "[encoded data removed]",
      "text/plain": [
       "<Figure size 576x396 with 1 Axes>"
      ]
     },
     "metadata": {},
     "output_type": "display_data"
    }
   ],
   "source": [
    "atr = 'episodes'\n",
    "sns.set_theme(style=\"whitegrid\")\n",
    "ax = sns.boxplot(x=df_other_content[atr])"
   ]
  },
  {
   "cell_type": "code",
   "execution_count": 37,
   "id": "d14f68ce",
   "metadata": {},
   "outputs": [
    {
     "data": {
      "image/png": "[encoded data removed]",
      "text/plain": [
       "<Figure size 576x396 with 1 Axes>"
      ]
     },
     "metadata": {},
     "output_type": "display_data"
    }
   ],
   "source": [
    "atr = 'members'\n",
    "sns.set_theme(style=\"whitegrid\")\n",
    "ax = sns.boxplot(x=df_other_content[atr])"
   ]
  },
  {
   "cell_type": "markdown",
   "id": "b2144ec6",
   "metadata": {},
   "source": [
    "## Construccion del modelo de clustering"
   ]
  },
  {
   "cell_type": "code",
   "execution_count": 38,
   "id": "57ee0729",
   "metadata": {},
   "outputs": [
    {
     "ename": "NameError",
     "evalue": "name 'nombre_de_las_variables_de_entrada' is not defined",
     "output_type": "error",
     "traceback": [
      "\u001b[1;31m---------------------------------------------------------------------------\u001b[0m",
      "\u001b[1;31mNameError\u001b[0m                                 Traceback (most recent call last)",
      "Input \u001b[1;32mIn [38]\u001b[0m, in \u001b[0;36m<cell line: 1>\u001b[1;34m()\u001b[0m\n\u001b[1;32m----> 1\u001b[0m df_series_comparate \u001b[38;5;241m=\u001b[39m deepcopy(df_series[\u001b[43mnombre_de_las_variables_de_entrada\u001b[49m])\n\u001b[0;32m      2\u001b[0m nombre_de_las_variables_de_entrada \u001b[38;5;241m=\u001b[39m [\u001b[38;5;124m'\u001b[39m\u001b[38;5;124mepisodes\u001b[39m\u001b[38;5;124m'\u001b[39m,\u001b[38;5;124m'\u001b[39m\u001b[38;5;124mrating\u001b[39m\u001b[38;5;124m'\u001b[39m,\u001b[38;5;124m'\u001b[39m\u001b[38;5;124mmembers\u001b[39m\u001b[38;5;124m'\u001b[39m]\n\u001b[0;32m      4\u001b[0m rango_de_salida_de_las_variables_escaladas \u001b[38;5;241m=\u001b[39m (\u001b[38;5;241m0\u001b[39m,\u001b[38;5;241m1\u001b[39m)  \u001b[38;5;66;03m#Tupla con el siguiente formato: (mínimo deseado, máximo deseado).\u001b[39;00m\n",
      "\u001b[1;31mNameError\u001b[0m: name 'nombre_de_las_variables_de_entrada' is not defined"
     ]
    }
   ],
   "source": [
    "df_series_comparate = deepcopy(df_series[nombre_de_las_variables_de_entrada])\n",
    "nombre_de_las_variables_de_entrada = ['episodes','rating','members']\n",
    "\n",
    "rango_de_salida_de_las_variables_escaladas = (0,1)  #Tupla con el siguiente formato: (mínimo deseado, máximo deseado).\n",
    "scaler = MinMaxScaler(feature_range=rango_de_salida_de_las_variables_escaladas)  #Instanciamos el objeto para escalar los datos. \n",
    "\n",
    "df_series_norm = deepcopy(df_series_comparate)  #Inicializamos este objeto con una copia profunda del las columnas de entrada de interés del dataframe.\n",
    "df_series_norm[nombre_de_las_variables_de_entrada] = scaler.fit_transform(df_series_norm) #Ajustamos y transformamos los datos.\n"
   ]
  },
  {
   "cell_type": "code",
   "execution_count": null,
   "id": "bb7a3fbe",
   "metadata": {},
   "outputs": [],
   "source": [
    "ax = sns.heatmap(df_series_norm.corr(),annot=True,cmap='RdYlGn')"
   ]
  },
  {
   "cell_type": "code",
   "execution_count": null,
   "id": "eb119eaa",
   "metadata": {},
   "outputs": [],
   "source": [
    "sns.set(style='white')  #Esto fija el estilo del fondo. Algunas opciones son: 'dark', 'white'\n",
    "sns.set_palette('Set2') #Para otras opciones de paletas de colores, visite: https://seaborn.pydata.org/tutorial/color_palettes.html\n",
    "g = sns.PairGrid(data=df_series_norm.iloc[:,0:],diag_sharey=True)  #Note que no graficamos la columna 0 correspondiente a Id, \n",
    "                                                                     #pues no aporta información. Usamos las categorías de la columna de\n",
    "                                                                     #'Species' para colorear las gráficas.\n",
    "g.map_diag(sns.kdeplot)      #Muestra gráficos de densidad 1D en la diagonal de la matriz. \n",
    "g.map_lower(sns.scatterplot) #Muestra gráficos de dispersión en la sección inferior izquierda de la matriz.\n",
    "\n",
    "g.add_legend()               #Agrega la leyenda de las especies.\n",
    "plt.show()"
   ]
  },
  {
   "cell_type": "code",
   "execution_count": null,
   "id": "94d8b6a7",
   "metadata": {},
   "outputs": [],
   "source": [
    "#-------------------------------------------------------------------------------\n",
    "#-------------------------------------------------------------------------------\n",
    "# HYPERPARÁMETROS DEL MODELO\n",
    "#-------------------------------------------------------------------------------\n",
    "#-------------------------------------------------------------------------------\n",
    "\n",
    "kmin              = 1           #Límite inferior para explorar el número de grupos.\n",
    "kmax              = 10          #Límite superior para explorar el número de grupos.\n",
    "init              ='k-means++'  #Se define el método de inicialización. Otra opción válida es 'random'.\n",
    "n_init            = 10          #Número de inicializaciones aleatorias. Al final scikit learn escoge aquel con la menor inercia \n",
    "                                #(i.e.: suma de cuadrados de distancias de cada punto a su centroide respectivo dentro de cada grupo, para todos los puntos). \n",
    "                                #https://scikit-learn.org/stable/modules/clustering.html\n",
    "max_iter          = 300         #Número MÁXIMO de iteraciones para una sola ejecución.\n",
    "random_seed       = 42          #Semilla aleatoria. Permite obtener los mismos resultados en cada ejecución.\n"
   ]
  },
  {
   "cell_type": "code",
   "execution_count": null,
   "id": "e2cfa60e",
   "metadata": {},
   "outputs": [],
   "source": [
    "df_x_norm = df_series_norm\n",
    "# Vamos a dividir los datos en un conjunto de entrenamiento y un conjunto de pruebas.\n",
    "mezclar_los_datos       = True #Vamos a mezclar de forma aleatoria los datos antes de particionarlos. \n",
    "valor_semilla_aleatoria = 42   #Esto es útil si se quiere garantizar la repetibilidad \n",
    "                               #de la partición de datos en ejecuciones sucesivas de su notebook o script.\n",
    "particion_para_pruebas = 0.2\n",
    "\n",
    "#Hacemos la partición para obtener el conjunto de pruebas y el \"resto\" (i.e.: entrenamiento y desarrollo).\n",
    "df_x_train, df_x_test = train_test_split(df_x_norm,                                         \n",
    "                                        test_size=particion_para_pruebas, \n",
    "                                        random_state=valor_semilla_aleatoria, \n",
    "                                        shuffle=mezclar_los_datos)"
   ]
  },
  {
   "cell_type": "code",
   "execution_count": null,
   "id": "18bb909b",
   "metadata": {},
   "outputs": [],
   "source": [
    "#Revisemos los resultados del método de la silueta para algunos valores\n",
    "#\"tentativos\" para k:\n",
    "silhouette_score_list        = []\n",
    "\n",
    "for k in [2, 3, 4,5,6,7,8,9,10]:\n",
    "    model3 = KMeans(n_clusters=k,         #Se define el número de grupos.\n",
    "                  init=init,            #Se define el método de inicialización. Otra opción es 'random'\n",
    "                  n_init=n_init,        #Número de inicializaciones aleatorias. Al final se escoge aquel con la menor inercia: sum( (x_i-centroide(x_i))^2 ) \n",
    "                  max_iter=max_iter,    #Número MÁXIMO de iteraciones para una sola ejecución.\n",
    "                  random_state=random_seed)\n",
    "    model3.fit(df_x_train)\n",
    "    sc = silhouette_score(df_x_train.values, model3.labels_)\n",
    "    silhouette_score_list.append(sc)\n",
    "    print(\n",
    "        \"For k clusters =\",\n",
    "        k,\n",
    "        \"The average silhouette_score is :\",\n",
    "        sc,\n",
    "    )\n",
    "    plt.figure(figsize=(10,3))  #Tamaño de la figura (ancho, alto).\n",
    "    visualizer5 = SilhouetteVisualizer(estimator=model3, colors='yellowbrick')\n",
    "    visualizer5.fit(df_x_train)\n",
    "    visualizer5.show() "
   ]
  },
  {
   "cell_type": "code",
   "execution_count": null,
   "id": "fd85dc4c",
   "metadata": {},
   "outputs": [],
   "source": [
    "model2 = KMeans(init=init,              #Se define el método de inicialización. \n",
    "               n_init=n_init,           #Número de inicializaciones aleatorias. Al final se escoge aquel con la menor inercia: sum( (x_i-centroide(x_i))^2 ). \n",
    "               max_iter=max_iter,       #Número MÁXIMO de iteraciones para una sola ejecución.\n",
    "               random_state=random_seed)\n",
    "\n",
    "for metric in [\"distortion\", \"silhouette\", \"calinski_harabasz\"]:  #Itere sobre las métricas que soporta KElbowVisualizer.\n",
    "  \n",
    "  #Este condicional permite adaptar el flujo pues dos de las métricas requieren al menos 2 grupos para que se puedan calcular.\n",
    "  if metric==\"silhouette\" or metric==\"calinski_harabasz\":  \n",
    "    kmin_ = max(2,kmin)\n",
    "  else:\n",
    "    kmin_ = kmin\n",
    "  \n",
    "  plt.figure(figsize=(10,5))   #Tamaño de la figura (ancho, alto).\n",
    "  visualizer2 = KElbowVisualizer(estimator=model2, \n",
    "                                  k=(kmin_,kmax+1),     #Permite explorar valores de k entre [kmin_,kmax].\n",
    "                                  metric=metric,        #Opciones:  \"distortion\", \"silhouette\", \"calinski_harabasz\"\n",
    "                                  timings=False,          \n",
    "                                  locate_elbow=True)   #Si esta opción se activa, ubica el codo con una línea punteada.\n",
    "  visualizer2.fit(df_x_train)   #Ajusta los datos al visualizador.\n",
    "  visualizer2.show()"
   ]
  },
  {
   "cell_type": "code",
   "execution_count": null,
   "id": "57aaa15d",
   "metadata": {},
   "outputs": [],
   "source": [
    "#K-means\n",
    "#-------------------------------------------------------------------------------\n",
    "k = 3  #Número de grupos que se escogió después del análisis previo.\n",
    "\n",
    "#Ahora se instancia el objeto para utilizar el agrupamiento con k-means.\n",
    "#Para ver todas los opciones del constructor, consulte: https://scikit-learn.org/stable/modules/generated/sklearn.cluster.KMeans.html\n",
    "#Nota: el algoritmo de k-means disponible en scikit-learn funciona únicamente con la distancia euclidiana.\n",
    "#Si requiere aplicar k-means con otras métricas de distancia, puede consultar la librería PyClustering: https://github.com/annoviko/pyclustering\n",
    "kmeans = KMeans(n_clusters   = k,            #Se define el número de grupos.\n",
    "                init         = init,         #Se define el método de inicialización. Otra opción es 'random'\n",
    "                n_init       = n_init,       #Número de inicializaciones aleatorias. \n",
    "                max_iter     = max_iter,     #Número MÁXIMO de iteraciones para una sola ejecución.\n",
    "                random_state = random_seed)\n",
    "\n",
    "#Hagamos el ajuste (i.e.: encontremos los centroides).\n",
    "kmeans.fit(df_x_train)\n",
    "\n",
    "#Revisemos los centroides de cada grupo.\n",
    "centroides = kmeans.cluster_centers_\n",
    "print('Centroides:', centroides)"
   ]
  },
  {
   "cell_type": "code",
   "execution_count": null,
   "id": "8ee9b2d6",
   "metadata": {},
   "outputs": [],
   "source": []
  }
 ],
 "metadata": {
  "kernelspec": {
   "display_name": "Python 3 (ipykernel)",
   "language": "python",
   "name": "python3"
  },
  "language_info": {
   "codemirror_mode": {
    "name": "ipython",
    "version": 3
   },
   "file_extension": ".py",
   "mimetype": "text/x-python",
   "name": "python",
   "nbconvert_exporter": "python",
   "pygments_lexer": "ipython3",
   "version": "3.9.12"
  },
  "vscode": {
   "interpreter": {
    "hash": "2170c07657f87265cba946de83c9a171f992bd979658ca2ef08475a7d340f029"
   }
  }
 },
 "nbformat": 4,
 "nbformat_minor": 5
}

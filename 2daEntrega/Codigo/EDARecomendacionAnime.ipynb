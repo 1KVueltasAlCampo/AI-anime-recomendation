{
 "cells": [
  {
   "cell_type": "markdown",
   "id": "3e3e97ae",
   "metadata": {},
   "source": [
    "# **Anime recommendation**"
   ]
  },
  {
   "cell_type": "markdown",
   "id": "5db20be9",
   "metadata": {},
   "source": [
    "+ Alexander Sanchez Sanchez\n",
    "+ Juan David Cruz Garcia\n",
    "+ Juan Sebastian Perez Camacho\n",
    "+ Kennet Santiago Sanchez Roldan"
   ]
  },
  {
   "cell_type": "markdown",
   "id": "36f52bb2",
   "metadata": {},
   "source": [
    "### El objetivo de este proyecto es construir un modelo de inteligencia artificial que sea capaz de recomendar animes a usuarios segun que animes hayan visto estos previamente y la calificacion dada.\n",
    "### La informacion utilizada aqui es extraida de Kaggle desde el enlace: https://www.kaggle.com/datasets/CooperUnion/anime-recommendations-database"
   ]
  },
  {
   "cell_type": "markdown",
   "id": "75a51bb2",
   "metadata": {},
   "source": [
    "## Carga de librerias"
   ]
  },
  {
   "cell_type": "code",
   "execution_count": 1,
   "id": "5bb18629",
   "metadata": {},
   "outputs": [],
   "source": [
    "import matplotlib.pyplot as plt    #Importamos pyplot de librería matplotlib. Lo vamos a utilizar para graficar.\n",
    "import seaborn as sns              #Importamos la librería Seaborn. La vamos a utilizar para graficar.\n",
    "import numpy as np                 #Importamos la librería numpy para manipular arreglos.\n",
    "import pandas as pd\n",
    "import os\n",
    "import warnings\n",
    "\n",
    "from pathlib import Path\n",
    "from sklearn.model_selection import train_test_split #Útil para dividir los conjuntos de datos. \n",
    "from sklearn.preprocessing import MinMaxScaler       #Útil para escalar los atributos de entrada.\n",
    "\n",
    "from copy import deepcopy                            #Permite hacer copias profundas. \n",
    "\n",
    "from sklearn.cluster import KMeans                   #Clase que implementa k-means.\n",
    "from sklearn.metrics import silhouette_samples       #Útil para calcular el valor de la silueta de una observación. \n",
    "from sklearn.metrics import silhouette_score         #Útil para calcular el valor de la silueta de todas las observaciones.\n",
    "from sklearn.metrics import calinski_harabasz_score  #Útil para calcular el valor del índice Calinski Harabasz (CH).\n",
    "from sklearn.metrics import confusion_matrix         #Permite extraer la matriz de confusión.\n",
    "\n",
    "#!pip install yellowbrick --upgrade                   #Instala y actualiza la librería yellowbrick (la versión por defecto en Google Colab está desactualizada).\n",
    "from yellowbrick.cluster import KElbowVisualizer     #Permite obtener la gráfica del codo para tres métricas diferentes (distorsión, silueta, CH).\n",
    "from yellowbrick.cluster import SilhouetteVisualizer \n",
    "from pandas.core.common import SettingWithCopyWarning\n",
    "\n",
    "warnings.simplefilter(action=\"ignore\", category=SettingWithCopyWarning)\n",
    "warnings.simplefilter(action=\"ignore\", category=FutureWarning)"
   ]
  },
  {
   "cell_type": "markdown",
   "id": "16ca42a2",
   "metadata": {},
   "source": [
    "## **Carga de datos**"
   ]
  },
  {
   "cell_type": "code",
   "execution_count": 2,
   "id": "ac3e6fba",
   "metadata": {
    "scrolled": true
   },
   "outputs": [],
   "source": [
    "#Anime.csv\n",
    "path = Path(os.getcwd())\n",
    "path = str(path.parent.absolute())\n",
    "path = path+\"/datos/anime.csv\"\n",
    "dfAnime = pd.read_csv(path,na_values='?')    "
   ]
  },
  {
   "cell_type": "code",
   "execution_count": 3,
   "id": "5b536cee",
   "metadata": {},
   "outputs": [],
   "source": [
    "#rating.csv\n",
    "path2 = Path(os.getcwd())\n",
    "path2 = str(path2.parent.absolute())\n",
    "path2 = path2+\"/datos/rating.csv\"\n",
    "dfRating = pd.read_csv(path2,na_values='?')    "
   ]
  },
  {
   "cell_type": "markdown",
   "id": "d4507dfd",
   "metadata": {},
   "source": [
    "## **Tipos de dato adecuados**"
   ]
  },
  {
   "cell_type": "markdown",
   "id": "3344a1e6",
   "metadata": {},
   "source": [
    "**Definimos tipos para cada columna del dataframe que tenga como tipo \"object\"**"
   ]
  },
  {
   "cell_type": "code",
   "execution_count": 4,
   "id": "3abda122",
   "metadata": {},
   "outputs": [
    {
     "name": "stdout",
     "output_type": "stream",
     "text": [
      "<class 'pandas.core.frame.DataFrame'>\n",
      "RangeIndex: 12294 entries, 0 to 12293\n",
      "Data columns (total 7 columns):\n",
      " #   Column    Non-Null Count  Dtype  \n",
      "---  ------    --------------  -----  \n",
      " 0   anime_id  12294 non-null  int64  \n",
      " 1   name      12294 non-null  string \n",
      " 2   genre     12232 non-null  string \n",
      " 3   type      12269 non-null  string \n",
      " 4   episodes  11954 non-null  float64\n",
      " 5   rating    12064 non-null  float64\n",
      " 6   members   12294 non-null  int64  \n",
      "dtypes: float64(2), int64(2), string(3)\n",
      "memory usage: 672.5 KB\n"
     ]
    }
   ],
   "source": [
    "#anime.csv\n",
    "dfAnime['name'] = dfAnime['name'].astype(\"string\")\n",
    "dfAnime['genre'] = dfAnime['genre'].astype(\"string\")\n",
    "dfAnime['type'] = dfAnime['type'].astype(\"string\")\n",
    "dfAnime['episodes']=pd.to_numeric(dfAnime.episodes, errors='coerce').dropna().astype(int)\n",
    "dfAnime.info()"
   ]
  },
  {
   "cell_type": "markdown",
   "id": "956d81e3",
   "metadata": {},
   "source": [
    " **rating.csv ya tenia los tipos de datos adecuados**"
   ]
  },
  {
   "cell_type": "markdown",
   "id": "4ded0935",
   "metadata": {},
   "source": [
    "## **Busqueda y eliminacion de valores nulos o duplicados**"
   ]
  },
  {
   "cell_type": "markdown",
   "id": "a89e5c33",
   "metadata": {},
   "source": [
    "**Vamos a buscar los valores nulos de los dataframes**"
   ]
  },
  {
   "cell_type": "code",
   "execution_count": 5,
   "id": "c41f3829",
   "metadata": {
    "scrolled": true
   },
   "outputs": [
    {
     "name": "stdout",
     "output_type": "stream",
     "text": [
      "La cantidad de datos nulos es:\n"
     ]
    },
    {
     "data": {
      "text/html": [
       "<style type=\"text/css\">\n",
       "#T_4b02f_row0_col0, #T_4b02f_row0_col1, #T_4b02f_row0_col2, #T_4b02f_row0_col3, #T_4b02f_row0_col4, #T_4b02f_row0_col5, #T_4b02f_row0_col6 {\n",
       "  background-color: #2a9d8f;\n",
       "  color: white;\n",
       "  border: 1.5px  solid black;\n",
       "}\n",
       "</style>\n",
       "<table id=\"T_4b02f\">\n",
       "  <thead>\n",
       "    <tr>\n",
       "      <th class=\"blank level0\" >&nbsp;</th>\n",
       "      <th id=\"T_4b02f_level0_col0\" class=\"col_heading level0 col0\" >anime_id</th>\n",
       "      <th id=\"T_4b02f_level0_col1\" class=\"col_heading level0 col1\" >name</th>\n",
       "      <th id=\"T_4b02f_level0_col2\" class=\"col_heading level0 col2\" >genre</th>\n",
       "      <th id=\"T_4b02f_level0_col3\" class=\"col_heading level0 col3\" >type</th>\n",
       "      <th id=\"T_4b02f_level0_col4\" class=\"col_heading level0 col4\" >episodes</th>\n",
       "      <th id=\"T_4b02f_level0_col5\" class=\"col_heading level0 col5\" >rating</th>\n",
       "      <th id=\"T_4b02f_level0_col6\" class=\"col_heading level0 col6\" >members</th>\n",
       "    </tr>\n",
       "  </thead>\n",
       "  <tbody>\n",
       "    <tr>\n",
       "      <th id=\"T_4b02f_level0_row0\" class=\"row_heading level0 row0\" >0</th>\n",
       "      <td id=\"T_4b02f_row0_col0\" class=\"data row0 col0\" >0</td>\n",
       "      <td id=\"T_4b02f_row0_col1\" class=\"data row0 col1\" >0</td>\n",
       "      <td id=\"T_4b02f_row0_col2\" class=\"data row0 col2\" >62</td>\n",
       "      <td id=\"T_4b02f_row0_col3\" class=\"data row0 col3\" >25</td>\n",
       "      <td id=\"T_4b02f_row0_col4\" class=\"data row0 col4\" >340</td>\n",
       "      <td id=\"T_4b02f_row0_col5\" class=\"data row0 col5\" >230</td>\n",
       "      <td id=\"T_4b02f_row0_col6\" class=\"data row0 col6\" >0</td>\n",
       "    </tr>\n",
       "  </tbody>\n",
       "</table>\n"
      ],
      "text/plain": [
       "<pandas.io.formats.style.Styler at 0x2c1d38ab940>"
      ]
     },
     "execution_count": 5,
     "metadata": {},
     "output_type": "execute_result"
    }
   ],
   "source": [
    "# anime.csv\n",
    "print(\"La cantidad de datos nulos es:\")\n",
    "dfAnime.isna().sum().to_frame().T.style.set_properties(**{\"background-color\": \"#2a9d8f\",\"color\":\"white\",\"border\": \"1.5px  solid black\"})"
   ]
  },
  {
   "cell_type": "code",
   "execution_count": 6,
   "id": "47cbb7e0",
   "metadata": {},
   "outputs": [
    {
     "name": "stdout",
     "output_type": "stream",
     "text": [
      "La cantidad de datos nulos es:\n"
     ]
    },
    {
     "data": {
      "text/html": [
       "<style type=\"text/css\">\n",
       "#T_7fdd8_row0_col0, #T_7fdd8_row0_col1, #T_7fdd8_row0_col2 {\n",
       "  background-color: #2a9d8f;\n",
       "  color: white;\n",
       "  border: 1.5px  solid black;\n",
       "}\n",
       "</style>\n",
       "<table id=\"T_7fdd8\">\n",
       "  <thead>\n",
       "    <tr>\n",
       "      <th class=\"blank level0\" >&nbsp;</th>\n",
       "      <th id=\"T_7fdd8_level0_col0\" class=\"col_heading level0 col0\" >user_id</th>\n",
       "      <th id=\"T_7fdd8_level0_col1\" class=\"col_heading level0 col1\" >anime_id</th>\n",
       "      <th id=\"T_7fdd8_level0_col2\" class=\"col_heading level0 col2\" >rating</th>\n",
       "    </tr>\n",
       "  </thead>\n",
       "  <tbody>\n",
       "    <tr>\n",
       "      <th id=\"T_7fdd8_level0_row0\" class=\"row_heading level0 row0\" >0</th>\n",
       "      <td id=\"T_7fdd8_row0_col0\" class=\"data row0 col0\" >0</td>\n",
       "      <td id=\"T_7fdd8_row0_col1\" class=\"data row0 col1\" >0</td>\n",
       "      <td id=\"T_7fdd8_row0_col2\" class=\"data row0 col2\" >0</td>\n",
       "    </tr>\n",
       "  </tbody>\n",
       "</table>\n"
      ],
      "text/plain": [
       "<pandas.io.formats.style.Styler at 0x2c1d3a27250>"
      ]
     },
     "execution_count": 6,
     "metadata": {},
     "output_type": "execute_result"
    }
   ],
   "source": [
    "# Rating.csv\n",
    "print(\"La cantidad de datos nulos es:\")\n",
    "dfRating.isna().sum().to_frame().T.style.set_properties(**{\"background-color\": \"#2a9d8f\",\"color\":\"white\",\"border\": \"1.5px  solid black\"})"
   ]
  },
  {
   "cell_type": "markdown",
   "id": "a19a3b2f",
   "metadata": {},
   "source": [
    "+ **La cantidad de datos con valores nulos no es tan grande en comparacion al total asi que podemos borrarlos.**\n",
    "+ **Eliminamos tambien los valores innecesarios. (En el caso de rating.csv, los rating con -1 son inutiles para nuestro problema puesto que simbolizan que el usuario no ha calificado el anime)**"
   ]
  },
  {
   "cell_type": "code",
   "execution_count": 7,
   "id": "bb14bf96",
   "metadata": {},
   "outputs": [],
   "source": [
    "dfAnime=dfAnime.dropna()\n",
    "dfRating = dfRating[dfRating.rating != -1]"
   ]
  },
  {
   "cell_type": "markdown",
   "id": "01d19673",
   "metadata": {},
   "source": [
    "**Ahora buscamos el numero de datos duplicados y eliminamos en caso de que existan**"
   ]
  },
  {
   "cell_type": "code",
   "execution_count": 8,
   "id": "363e2cbb",
   "metadata": {
    "scrolled": true
   },
   "outputs": [
    {
     "name": "stdout",
     "output_type": "stream",
     "text": [
      "Numero de datos duplicados  0\n"
     ]
    }
   ],
   "source": [
    "# Anime.csv\n",
    "duplicados = dfAnime[dfAnime.duplicated()].shape[0]\n",
    "print(\"Numero de datos duplicados \",duplicados)"
   ]
  },
  {
   "cell_type": "code",
   "execution_count": 9,
   "id": "839cb511",
   "metadata": {},
   "outputs": [
    {
     "name": "stdout",
     "output_type": "stream",
     "text": [
      "Numero de datos duplicados  1\n"
     ]
    }
   ],
   "source": [
    "# Rating.csv\n",
    "duplicados = dfRating[dfRating.duplicated()].shape[0]\n",
    "print(\"Numero de datos duplicados \",duplicados)"
   ]
  },
  {
   "cell_type": "code",
   "execution_count": 10,
   "id": "55872b15",
   "metadata": {},
   "outputs": [
    {
     "name": "stdout",
     "output_type": "stream",
     "text": [
      "Numero de datos duplicados  0\n"
     ]
    }
   ],
   "source": [
    "# Rating.csv\n",
    "dfRating.drop_duplicates(keep='first',inplace=True)\n",
    "duplicados = dfRating[dfRating.duplicated()].shape[0]\n",
    "print(\"Numero de datos duplicados \",duplicados)"
   ]
  },
  {
   "cell_type": "markdown",
   "id": "2ed64e55",
   "metadata": {},
   "source": [
    "## Ajustes para el dataframe anime.csv"
   ]
  },
  {
   "cell_type": "markdown",
   "id": "5902762b",
   "metadata": {},
   "source": [
    "+ **Convertimos \"episodes\" en una variable de numeros enteros para poder realizar adecuadamente el conteo**\n",
    "+ **Convertimos \"type\" en una variable de tipo categoria para poder realizar analisis sobre este**"
   ]
  },
  {
   "cell_type": "code",
   "execution_count": 11,
   "id": "cb7c56f2",
   "metadata": {},
   "outputs": [],
   "source": [
    "dfAnime['episodes'] = dfAnime['episodes'].astype(int)\n",
    "dfAnime=dfAnime.replace({'Movie': '0', 'TV': '1','OVA':'2','ONA':'2','Special':'3','Music':'4'})\n",
    "dfAnime['type'] = dfAnime['type'].astype(\"category\")"
   ]
  },
  {
   "cell_type": "markdown",
   "id": "eaf81c41",
   "metadata": {},
   "source": [
    "**Se debe tener en cuenta que el dataframe cuenta con animes de todo tipo incluyendo peliculas, esto significa que muchos de los datos se veran alterados por esto, por ejemplo, la cantidad de episodios tiende a ser 1 si el anime es del tipo pelicula mientras que las series pueden llegar incluso a 100 episodios.**"
   ]
  },
  {
   "cell_type": "markdown",
   "id": "1b506c20",
   "metadata": {},
   "source": [
    "**Por ello, es apropiado partir el dataframe en 2, uno para series de anime normales y otro para peliculas, ovas, etc.\n",
    "Para evitar un problema demasiado complejo, solo trabajaremos con el dataframe de series. Eliminamos la columna \"type\" puesto que ya no sera de utilidad**"
   ]
  },
  {
   "cell_type": "code",
   "execution_count": 12,
   "id": "341ea597",
   "metadata": {},
   "outputs": [],
   "source": [
    "df_series = dfAnime.loc[dfAnime['type'] == '1']\n",
    "df_series = df_series.drop('type',axis=1)"
   ]
  },
  {
   "cell_type": "markdown",
   "id": "b6ace5aa",
   "metadata": {},
   "source": [
    "**El dataframe tiene todos los generos de un anime en una sola columna, para que esta informacion sea util, debemos clasificarla**"
   ]
  },
  {
   "cell_type": "markdown",
   "id": "ca57fa03",
   "metadata": {},
   "source": [
    "**Primero observemos que categorias son las mas populares**"
   ]
  },
  {
   "cell_type": "code",
   "execution_count": 13,
   "id": "e1d98864",
   "metadata": {},
   "outputs": [
    {
     "name": "stdout",
     "output_type": "stream",
     "text": [
      "Total unique genres are 41\n",
      "Occurances of unique genres :\n"
     ]
    },
    {
     "data": {
      "text/html": [
       "<style type=\"text/css\">\n",
       "#T_6fb09_row0_col0, #T_6fb09_row0_col1, #T_6fb09_row0_col2, #T_6fb09_row0_col3, #T_6fb09_row0_col4, #T_6fb09_row0_col5, #T_6fb09_row0_col6, #T_6fb09_row0_col7, #T_6fb09_row0_col8, #T_6fb09_row0_col9, #T_6fb09_row0_col10, #T_6fb09_row0_col11, #T_6fb09_row0_col12, #T_6fb09_row0_col13, #T_6fb09_row0_col14, #T_6fb09_row0_col15, #T_6fb09_row0_col16, #T_6fb09_row0_col17, #T_6fb09_row0_col18, #T_6fb09_row0_col19, #T_6fb09_row0_col20, #T_6fb09_row0_col21, #T_6fb09_row0_col22, #T_6fb09_row0_col23, #T_6fb09_row0_col24, #T_6fb09_row0_col25, #T_6fb09_row0_col26, #T_6fb09_row0_col27, #T_6fb09_row0_col28, #T_6fb09_row0_col29, #T_6fb09_row0_col30, #T_6fb09_row0_col31, #T_6fb09_row0_col32, #T_6fb09_row0_col33, #T_6fb09_row0_col34, #T_6fb09_row0_col35, #T_6fb09_row0_col36, #T_6fb09_row0_col37, #T_6fb09_row0_col38, #T_6fb09_row0_col39, #T_6fb09_row0_col40 {\n",
       "  background-color: #2a9d8f;\n",
       "  color: white;\n",
       "  border: 1.5px  solid black;\n",
       "}\n",
       "</style>\n",
       "<table id=\"T_6fb09\">\n",
       "  <thead>\n",
       "    <tr>\n",
       "      <th class=\"blank level0\" >&nbsp;</th>\n",
       "      <th id=\"T_6fb09_level0_col0\" class=\"col_heading level0 col0\" >Comedy</th>\n",
       "      <th id=\"T_6fb09_level0_col1\" class=\"col_heading level0 col1\" >Action</th>\n",
       "      <th id=\"T_6fb09_level0_col2\" class=\"col_heading level0 col2\" >Adventure</th>\n",
       "      <th id=\"T_6fb09_level0_col3\" class=\"col_heading level0 col3\" >Sci-Fi</th>\n",
       "      <th id=\"T_6fb09_level0_col4\" class=\"col_heading level0 col4\" >Fantasy</th>\n",
       "      <th id=\"T_6fb09_level0_col5\" class=\"col_heading level0 col5\" >Shounen</th>\n",
       "      <th id=\"T_6fb09_level0_col6\" class=\"col_heading level0 col6\" >Drama</th>\n",
       "      <th id=\"T_6fb09_level0_col7\" class=\"col_heading level0 col7\" >Romance</th>\n",
       "      <th id=\"T_6fb09_level0_col8\" class=\"col_heading level0 col8\" >Slice Of Life</th>\n",
       "      <th id=\"T_6fb09_level0_col9\" class=\"col_heading level0 col9\" >School</th>\n",
       "      <th id=\"T_6fb09_level0_col10\" class=\"col_heading level0 col10\" >Kids</th>\n",
       "      <th id=\"T_6fb09_level0_col11\" class=\"col_heading level0 col11\" >Supernatural</th>\n",
       "      <th id=\"T_6fb09_level0_col12\" class=\"col_heading level0 col12\" >Mecha</th>\n",
       "      <th id=\"T_6fb09_level0_col13\" class=\"col_heading level0 col13\" >Magic</th>\n",
       "      <th id=\"T_6fb09_level0_col14\" class=\"col_heading level0 col14\" >Shoujo</th>\n",
       "      <th id=\"T_6fb09_level0_col15\" class=\"col_heading level0 col15\" >Historical</th>\n",
       "      <th id=\"T_6fb09_level0_col16\" class=\"col_heading level0 col16\" >Ecchi</th>\n",
       "      <th id=\"T_6fb09_level0_col17\" class=\"col_heading level0 col17\" >Sports</th>\n",
       "      <th id=\"T_6fb09_level0_col18\" class=\"col_heading level0 col18\" >Seinen</th>\n",
       "      <th id=\"T_6fb09_level0_col19\" class=\"col_heading level0 col19\" >Mystery</th>\n",
       "      <th id=\"T_6fb09_level0_col20\" class=\"col_heading level0 col20\" >Super Power</th>\n",
       "      <th id=\"T_6fb09_level0_col21\" class=\"col_heading level0 col21\" >Harem</th>\n",
       "      <th id=\"T_6fb09_level0_col22\" class=\"col_heading level0 col22\" >Military</th>\n",
       "      <th id=\"T_6fb09_level0_col23\" class=\"col_heading level0 col23\" >Space</th>\n",
       "      <th id=\"T_6fb09_level0_col24\" class=\"col_heading level0 col24\" >Parody</th>\n",
       "      <th id=\"T_6fb09_level0_col25\" class=\"col_heading level0 col25\" >Horror</th>\n",
       "      <th id=\"T_6fb09_level0_col26\" class=\"col_heading level0 col26\" >Game</th>\n",
       "      <th id=\"T_6fb09_level0_col27\" class=\"col_heading level0 col27\" >Music</th>\n",
       "      <th id=\"T_6fb09_level0_col28\" class=\"col_heading level0 col28\" >Martial Arts</th>\n",
       "      <th id=\"T_6fb09_level0_col29\" class=\"col_heading level0 col29\" >Psychological</th>\n",
       "      <th id=\"T_6fb09_level0_col30\" class=\"col_heading level0 col30\" >Demons</th>\n",
       "      <th id=\"T_6fb09_level0_col31\" class=\"col_heading level0 col31\" >Samurai</th>\n",
       "      <th id=\"T_6fb09_level0_col32\" class=\"col_heading level0 col32\" >Police</th>\n",
       "      <th id=\"T_6fb09_level0_col33\" class=\"col_heading level0 col33\" >Vampire</th>\n",
       "      <th id=\"T_6fb09_level0_col34\" class=\"col_heading level0 col34\" >Cars</th>\n",
       "      <th id=\"T_6fb09_level0_col35\" class=\"col_heading level0 col35\" >Thriller</th>\n",
       "      <th id=\"T_6fb09_level0_col36\" class=\"col_heading level0 col36\" >Josei</th>\n",
       "      <th id=\"T_6fb09_level0_col37\" class=\"col_heading level0 col37\" >Shoujo Ai</th>\n",
       "      <th id=\"T_6fb09_level0_col38\" class=\"col_heading level0 col38\" >Shounen Ai</th>\n",
       "      <th id=\"T_6fb09_level0_col39\" class=\"col_heading level0 col39\" >4</th>\n",
       "      <th id=\"T_6fb09_level0_col40\" class=\"col_heading level0 col40\" >Dementia</th>\n",
       "    </tr>\n",
       "  </thead>\n",
       "  <tbody>\n",
       "    <tr>\n",
       "      <th id=\"T_6fb09_level0_row0\" class=\"row_heading level0 row0\" >genre</th>\n",
       "      <td id=\"T_6fb09_row0_col0\" class=\"data row0 col0\" >1769</td>\n",
       "      <td id=\"T_6fb09_row0_col1\" class=\"data row0 col1\" >1052</td>\n",
       "      <td id=\"T_6fb09_row0_col2\" class=\"data row0 col2\" >897</td>\n",
       "      <td id=\"T_6fb09_row0_col3\" class=\"data row0 col3\" >752</td>\n",
       "      <td id=\"T_6fb09_row0_col4\" class=\"data row0 col4\" >720</td>\n",
       "      <td id=\"T_6fb09_row0_col5\" class=\"data row0 col5\" >686</td>\n",
       "      <td id=\"T_6fb09_row0_col6\" class=\"data row0 col6\" >676</td>\n",
       "      <td id=\"T_6fb09_row0_col7\" class=\"data row0 col7\" >637</td>\n",
       "      <td id=\"T_6fb09_row0_col8\" class=\"data row0 col8\" >534</td>\n",
       "      <td id=\"T_6fb09_row0_col9\" class=\"data row0 col9\" >532</td>\n",
       "      <td id=\"T_6fb09_row0_col10\" class=\"data row0 col10\" >438</td>\n",
       "      <td id=\"T_6fb09_row0_col11\" class=\"data row0 col11\" >409</td>\n",
       "      <td id=\"T_6fb09_row0_col12\" class=\"data row0 col12\" >372</td>\n",
       "      <td id=\"T_6fb09_row0_col13\" class=\"data row0 col13\" >333</td>\n",
       "      <td id=\"T_6fb09_row0_col14\" class=\"data row0 col14\" >277</td>\n",
       "      <td id=\"T_6fb09_row0_col15\" class=\"data row0 col15\" >267</td>\n",
       "      <td id=\"T_6fb09_row0_col16\" class=\"data row0 col16\" >237</td>\n",
       "      <td id=\"T_6fb09_row0_col17\" class=\"data row0 col17\" >233</td>\n",
       "      <td id=\"T_6fb09_row0_col18\" class=\"data row0 col18\" >221</td>\n",
       "      <td id=\"T_6fb09_row0_col19\" class=\"data row0 col19\" >216</td>\n",
       "      <td id=\"T_6fb09_row0_col20\" class=\"data row0 col20\" >177</td>\n",
       "      <td id=\"T_6fb09_row0_col21\" class=\"data row0 col21\" >172</td>\n",
       "      <td id=\"T_6fb09_row0_col22\" class=\"data row0 col22\" >128</td>\n",
       "      <td id=\"T_6fb09_row0_col23\" class=\"data row0 col23\" >121</td>\n",
       "      <td id=\"T_6fb09_row0_col24\" class=\"data row0 col24\" >119</td>\n",
       "      <td id=\"T_6fb09_row0_col25\" class=\"data row0 col25\" >109</td>\n",
       "      <td id=\"T_6fb09_row0_col26\" class=\"data row0 col26\" >97</td>\n",
       "      <td id=\"T_6fb09_row0_col27\" class=\"data row0 col27\" >97</td>\n",
       "      <td id=\"T_6fb09_row0_col28\" class=\"data row0 col28\" >93</td>\n",
       "      <td id=\"T_6fb09_row0_col29\" class=\"data row0 col29\" >88</td>\n",
       "      <td id=\"T_6fb09_row0_col30\" class=\"data row0 col30\" >85</td>\n",
       "      <td id=\"T_6fb09_row0_col31\" class=\"data row0 col31\" >50</td>\n",
       "      <td id=\"T_6fb09_row0_col32\" class=\"data row0 col32\" >48</td>\n",
       "      <td id=\"T_6fb09_row0_col33\" class=\"data row0 col33\" >45</td>\n",
       "      <td id=\"T_6fb09_row0_col34\" class=\"data row0 col34\" >35</td>\n",
       "      <td id=\"T_6fb09_row0_col35\" class=\"data row0 col35\" >34</td>\n",
       "      <td id=\"T_6fb09_row0_col36\" class=\"data row0 col36\" >30</td>\n",
       "      <td id=\"T_6fb09_row0_col37\" class=\"data row0 col37\" >30</td>\n",
       "      <td id=\"T_6fb09_row0_col38\" class=\"data row0 col38\" >23</td>\n",
       "      <td id=\"T_6fb09_row0_col39\" class=\"data row0 col39\" >8</td>\n",
       "      <td id=\"T_6fb09_row0_col40\" class=\"data row0 col40\" >7</td>\n",
       "    </tr>\n",
       "  </tbody>\n",
       "</table>\n"
      ],
      "text/plain": [
       "<pandas.io.formats.style.Styler at 0x2c1d3bb2220>"
      ]
     },
     "execution_count": 13,
     "metadata": {},
     "output_type": "execute_result"
    }
   ],
   "source": [
    "genreCount = df_series[[\"genre\"]]\n",
    "genreCount[\"genre\"] = genreCount[\"genre\"].str.split(\", | , | ,\")\n",
    "genreCount = genreCount.explode(\"genre\")\n",
    "genreCount[\"genre\"] = genreCount[\"genre\"].str.title()\n",
    "\n",
    "print(f'Total unique genres are {len(genreCount[\"genre\"].unique())}')\n",
    "print(f'Occurances of unique genres :')\n",
    "genreCount[\"genre\"].value_counts().to_frame().T.style.set_properties(**{\"background-color\": \"#2a9d8f\",\"color\":\"white\",\"border\": \"1.5px  solid black\"})"
   ]
  },
  {
   "cell_type": "markdown",
   "id": "f711c2b1",
   "metadata": {},
   "source": [
    "**Ahora, creemos una columna para cada uno de las 15 generos mas populares y eliminemos la columna genres**"
   ]
  },
  {
   "cell_type": "code",
   "execution_count": 14,
   "id": "3a392811",
   "metadata": {},
   "outputs": [],
   "source": [
    "def createNewColumn(colname):\n",
    "    df_series[colname] = np.where(df_series.genre.str.contains(colname),1,0)\n",
    "    df_series[colname] = df_series[colname].astype(\"category\")"
   ]
  },
  {
   "cell_type": "code",
   "execution_count": 15,
   "id": "bee312cb",
   "metadata": {},
   "outputs": [],
   "source": [
    "def containsGenre(dfInfo,word):  \n",
    "    if str(df_series[\"genre\"]).find(word):\n",
    "        return 1\n",
    "    return 0"
   ]
  },
  {
   "cell_type": "code",
   "execution_count": 16,
   "id": "1e6ad5c0",
   "metadata": {},
   "outputs": [],
   "source": [
    "#Partir aqui las categorias\n",
    "for i in range(15):\n",
    "    createNewColumn(genreCount[\"genre\"].value_counts().index.tolist()[i])\n",
    "\n",
    "#df['colF'] = df.apply(lambda row: categorise(row), axis=1)"
   ]
  },
  {
   "cell_type": "markdown",
   "id": "60ed5429",
   "metadata": {},
   "source": [
    "**Finalmente tenemos el siguiente dataframe**"
   ]
  },
  {
   "cell_type": "code",
   "execution_count": 17,
   "id": "9c438d80",
   "metadata": {},
   "outputs": [
    {
     "data": {
      "text/html": [
       "<div>\n",
       "<style scoped>\n",
       "    .dataframe tbody tr th:only-of-type {\n",
       "        vertical-align: middle;\n",
       "    }\n",
       "\n",
       "    .dataframe tbody tr th {\n",
       "        vertical-align: top;\n",
       "    }\n",
       "\n",
       "    .dataframe thead th {\n",
       "        text-align: right;\n",
       "    }\n",
       "</style>\n",
       "<table border=\"1\" class=\"dataframe\">\n",
       "  <thead>\n",
       "    <tr style=\"text-align: right;\">\n",
       "      <th></th>\n",
       "      <th>anime_id</th>\n",
       "      <th>name</th>\n",
       "      <th>episodes</th>\n",
       "      <th>rating</th>\n",
       "      <th>members</th>\n",
       "      <th>Comedy</th>\n",
       "      <th>Action</th>\n",
       "      <th>Adventure</th>\n",
       "      <th>Sci-Fi</th>\n",
       "      <th>Fantasy</th>\n",
       "      <th>Shounen</th>\n",
       "      <th>Drama</th>\n",
       "      <th>Romance</th>\n",
       "      <th>Slice Of Life</th>\n",
       "      <th>School</th>\n",
       "      <th>Kids</th>\n",
       "      <th>Supernatural</th>\n",
       "      <th>Mecha</th>\n",
       "      <th>Magic</th>\n",
       "      <th>Shoujo</th>\n",
       "    </tr>\n",
       "  </thead>\n",
       "  <tbody>\n",
       "    <tr>\n",
       "      <th>1</th>\n",
       "      <td>5114</td>\n",
       "      <td>Fullmetal Alchemist: Brotherhood</td>\n",
       "      <td>64</td>\n",
       "      <td>9.26</td>\n",
       "      <td>793665</td>\n",
       "      <td>0</td>\n",
       "      <td>1</td>\n",
       "      <td>1</td>\n",
       "      <td>0</td>\n",
       "      <td>1</td>\n",
       "      <td>1</td>\n",
       "      <td>1</td>\n",
       "      <td>0</td>\n",
       "      <td>0</td>\n",
       "      <td>0</td>\n",
       "      <td>0</td>\n",
       "      <td>0</td>\n",
       "      <td>0</td>\n",
       "      <td>1</td>\n",
       "      <td>0</td>\n",
       "    </tr>\n",
       "    <tr>\n",
       "      <th>2</th>\n",
       "      <td>28977</td>\n",
       "      <td>Gintama°</td>\n",
       "      <td>51</td>\n",
       "      <td>9.25</td>\n",
       "      <td>114262</td>\n",
       "      <td>1</td>\n",
       "      <td>1</td>\n",
       "      <td>0</td>\n",
       "      <td>1</td>\n",
       "      <td>0</td>\n",
       "      <td>1</td>\n",
       "      <td>0</td>\n",
       "      <td>0</td>\n",
       "      <td>0</td>\n",
       "      <td>0</td>\n",
       "      <td>0</td>\n",
       "      <td>0</td>\n",
       "      <td>0</td>\n",
       "      <td>0</td>\n",
       "      <td>0</td>\n",
       "    </tr>\n",
       "    <tr>\n",
       "      <th>3</th>\n",
       "      <td>9253</td>\n",
       "      <td>Steins;Gate</td>\n",
       "      <td>24</td>\n",
       "      <td>9.17</td>\n",
       "      <td>673572</td>\n",
       "      <td>0</td>\n",
       "      <td>0</td>\n",
       "      <td>0</td>\n",
       "      <td>1</td>\n",
       "      <td>0</td>\n",
       "      <td>0</td>\n",
       "      <td>0</td>\n",
       "      <td>0</td>\n",
       "      <td>0</td>\n",
       "      <td>0</td>\n",
       "      <td>0</td>\n",
       "      <td>0</td>\n",
       "      <td>0</td>\n",
       "      <td>0</td>\n",
       "      <td>0</td>\n",
       "    </tr>\n",
       "  </tbody>\n",
       "</table>\n",
       "</div>"
      ],
      "text/plain": [
       "   anime_id                              name  episodes  rating  members  \\\n",
       "1      5114  Fullmetal Alchemist: Brotherhood        64    9.26   793665   \n",
       "2     28977                          Gintama°        51    9.25   114262   \n",
       "3      9253                       Steins;Gate        24    9.17   673572   \n",
       "\n",
       "  Comedy Action Adventure Sci-Fi Fantasy Shounen Drama Romance Slice Of Life  \\\n",
       "1      0      1         1      0       1       1     1       0             0   \n",
       "2      1      1         0      1       0       1     0       0             0   \n",
       "3      0      0         0      1       0       0     0       0             0   \n",
       "\n",
       "  School Kids Supernatural Mecha Magic Shoujo  \n",
       "1      0    0            0     0     1      0  \n",
       "2      0    0            0     0     0      0  \n",
       "3      0    0            0     0     0      0  "
      ]
     },
     "execution_count": 17,
     "metadata": {},
     "output_type": "execute_result"
    }
   ],
   "source": [
    "df_series = df_series.drop('genre',axis=1)\n",
    "df_series.head(3)"
   ]
  },
  {
   "cell_type": "markdown",
   "id": "8146be66",
   "metadata": {},
   "source": [
    "## **Busqueda y eliminacion de outliers**"
   ]
  },
  {
   "cell_type": "markdown",
   "id": "fc11f3be",
   "metadata": {},
   "source": [
    "**Dada la naturaleza de las variables involucradas, solo tiene sentido analizar los outliers de los episodios y los miembros**"
   ]
  },
  {
   "cell_type": "code",
   "execution_count": 18,
   "id": "680eef99",
   "metadata": {},
   "outputs": [],
   "source": [
    "q_low = df_series[\"episodes\"].quantile(0.25)\n",
    "q_hi  = df_series[\"episodes\"].quantile(0.75)\n",
    "iqr = q_hi - q_low\n",
    "\n",
    "lower = q_low - (1.5*iqr)\n",
    "high = q_hi + (1.5*iqr)\n",
    "\n",
    "df_series = df_series[(df_series[\"episodes\"] < high) & (df_series[\"episodes\"] > lower)]"
   ]
  },
  {
   "cell_type": "code",
   "execution_count": 19,
   "id": "11262aec",
   "metadata": {},
   "outputs": [],
   "source": [
    "q_low = df_series[\"members\"].quantile(0.25)\n",
    "q_hi  = df_series[\"members\"].quantile(0.75)\n",
    "iqr = q_hi - q_low\n",
    "\n",
    "lower = q_low - (1.5*iqr)\n",
    "high = q_hi + (1.5*iqr)\n",
    "\n",
    "df_series = df_series[(df_series[\"members\"] < high) & (df_series[\"members\"] > lower)]"
   ]
  },
  {
   "cell_type": "code",
   "execution_count": 20,
   "id": "36e61dac",
   "metadata": {},
   "outputs": [
    {
     "data": {
      "image/png": "[encoded data removed]",
      "text/plain": [
       "<Figure size 576x396 with 1 Axes>"
      ]
     },
     "metadata": {},
     "output_type": "display_data"
    }
   ],
   "source": [
    "atr = 'episodes'\n",
    "sns.set_theme(style=\"whitegrid\")\n",
    "ax = sns.boxplot(x=df_series[atr])"
   ]
  },
  {
   "cell_type": "code",
   "execution_count": 21,
   "id": "97a0b13c",
   "metadata": {},
   "outputs": [
    {
     "data": {
      "image/png": "[encoded data removed]",
      "text/plain": [
       "<Figure size 576x396 with 1 Axes>"
      ]
     },
     "metadata": {},
     "output_type": "display_data"
    }
   ],
   "source": [
    "atr = 'members'\n",
    "sns.set_theme(style=\"whitegrid\")\n",
    "ax = sns.boxplot(x=df_series[atr])"
   ]
  },
  {
   "cell_type": "markdown",
   "id": "b2144ec6",
   "metadata": {},
   "source": [
    "## Construccion del modelo de clustering"
   ]
  },
  {
   "cell_type": "markdown",
   "id": "bb458e66",
   "metadata": {},
   "source": [
    "**Para construir un modelo adecuado, decidimos utilizar los generos mas populares y descartar las variables que no seran de demasiada utilidad. Ademas, normalizaremos los datos**"
   ]
  },
  {
   "cell_type": "code",
   "execution_count": 23,
   "id": "57ee0729",
   "metadata": {},
   "outputs": [],
   "source": [
    "features = list(set(df_series.columns) - set([\"anime_id\",\"name\",\"episodes\"]))\n",
    "\n",
    "rango_de_salida_de_las_variables_escaladas = (0,1)  #Tupla con el siguiente formato: (mínimo deseado, máximo deseado).\n",
    "scaler = MinMaxScaler(feature_range=rango_de_salida_de_las_variables_escaladas)  #Instanciamos el objeto para escalar los datos. \n",
    "\n",
    "df_series_norm = deepcopy(df_series[features])  #Inicializamos este objeto con una copia profunda del las columnas de entrada de interés del dataframe.\n",
    "df_series_norm[features] = scaler.fit_transform(df_series_norm) #Ajustamos y transformamos los datos.\n"
   ]
  },
  {
   "cell_type": "code",
   "execution_count": 25,
   "id": "4ad1fb8b",
   "metadata": {},
   "outputs": [],
   "source": [
    "# Agregar aqui correlacion entre las variables"
   ]
  },
  {
   "cell_type": "code",
   "execution_count": null,
   "id": "94d8b6a7",
   "metadata": {},
   "outputs": [],
   "source": [
    "#-------------------------------------------------------------------------------\n",
    "#-------------------------------------------------------------------------------\n",
    "# HYPERPARÁMETROS DEL MODELO\n",
    "#-------------------------------------------------------------------------------\n",
    "#-------------------------------------------------------------------------------\n",
    "\n",
    "kmin              = 1           #Límite inferior para explorar el número de grupos.\n",
    "kmax              = 10          #Límite superior para explorar el número de grupos.\n",
    "init              ='k-means++'  #Se define el método de inicialización. Otra opción válida es 'random'.\n",
    "n_init            = 10          #Número de inicializaciones aleatorias. Al final scikit learn escoge aquel con la menor inercia \n",
    "                                #(i.e.: suma de cuadrados de distancias de cada punto a su centroide respectivo dentro de cada grupo, para todos los puntos). \n",
    "                                #https://scikit-learn.org/stable/modules/clustering.html\n",
    "max_iter          = 300         #Número MÁXIMO de iteraciones para una sola ejecución.\n",
    "random_seed       = 42          #Semilla aleatoria. Permite obtener los mismos resultados en cada ejecución.\n"
   ]
  },
  {
   "cell_type": "code",
   "execution_count": null,
   "id": "e2cfa60e",
   "metadata": {},
   "outputs": [],
   "source": [
    "df_x_norm = df_series_norm\n",
    "# Vamos a dividir los datos en un conjunto de entrenamiento y un conjunto de pruebas.\n",
    "mezclar_los_datos       = True #Vamos a mezclar de forma aleatoria los datos antes de particionarlos. \n",
    "valor_semilla_aleatoria = 42   #Esto es útil si se quiere garantizar la repetibilidad \n",
    "                               #de la partición de datos en ejecuciones sucesivas de su notebook o script.\n",
    "particion_para_pruebas = 0.2\n",
    "\n",
    "#Hacemos la partición para obtener el conjunto de pruebas y el \"resto\" (i.e.: entrenamiento y desarrollo).\n",
    "df_x_train, df_x_test = train_test_split(df_x_norm,                                         \n",
    "                                        test_size=particion_para_pruebas, \n",
    "                                        random_state=valor_semilla_aleatoria, \n",
    "                                        shuffle=mezclar_los_datos)"
   ]
  },
  {
   "cell_type": "code",
   "execution_count": null,
   "id": "18bb909b",
   "metadata": {},
   "outputs": [],
   "source": [
    "#Revisemos los resultados del método de la silueta para algunos valores\n",
    "#\"tentativos\" para k:\n",
    "silhouette_score_list        = []\n",
    "\n",
    "for k in [2, 3, 4,5,6,7,8,9,10]:\n",
    "    model3 = KMeans(n_clusters=k,         #Se define el número de grupos.\n",
    "                  init=init,            #Se define el método de inicialización. Otra opción es 'random'\n",
    "                  n_init=n_init,        #Número de inicializaciones aleatorias. Al final se escoge aquel con la menor inercia: sum( (x_i-centroide(x_i))^2 ) \n",
    "                  max_iter=max_iter,    #Número MÁXIMO de iteraciones para una sola ejecución.\n",
    "                  random_state=random_seed)\n",
    "    model3.fit(df_x_train)\n",
    "    sc = silhouette_score(df_x_train.values, model3.labels_)\n",
    "    silhouette_score_list.append(sc)\n",
    "    print(\n",
    "        \"For k clusters =\",\n",
    "        k,\n",
    "        \"The average silhouette_score is :\",\n",
    "        sc,\n",
    "    )\n",
    "    plt.figure(figsize=(10,3))  #Tamaño de la figura (ancho, alto).\n",
    "    visualizer5 = SilhouetteVisualizer(estimator=model3, colors='yellowbrick')\n",
    "    visualizer5.fit(df_x_train)\n",
    "    visualizer5.show() "
   ]
  },
  {
   "cell_type": "code",
   "execution_count": null,
   "id": "fd85dc4c",
   "metadata": {},
   "outputs": [],
   "source": [
    "model2 = KMeans(init=init,              #Se define el método de inicialización. \n",
    "               n_init=n_init,           #Número de inicializaciones aleatorias. Al final se escoge aquel con la menor inercia: sum( (x_i-centroide(x_i))^2 ). \n",
    "               max_iter=max_iter,       #Número MÁXIMO de iteraciones para una sola ejecución.\n",
    "               random_state=random_seed)\n",
    "\n",
    "for metric in [\"distortion\", \"silhouette\", \"calinski_harabasz\"]:  #Itere sobre las métricas que soporta KElbowVisualizer.\n",
    "  \n",
    "  #Este condicional permite adaptar el flujo pues dos de las métricas requieren al menos 2 grupos para que se puedan calcular.\n",
    "  if metric==\"silhouette\" or metric==\"calinski_harabasz\":  \n",
    "    kmin_ = max(2,kmin)\n",
    "  else:\n",
    "    kmin_ = kmin\n",
    "  \n",
    "  plt.figure(figsize=(10,5))   #Tamaño de la figura (ancho, alto).\n",
    "  visualizer2 = KElbowVisualizer(estimator=model2, \n",
    "                                  k=(kmin_,kmax+1),     #Permite explorar valores de k entre [kmin_,kmax].\n",
    "                                  metric=metric,        #Opciones:  \"distortion\", \"silhouette\", \"calinski_harabasz\"\n",
    "                                  timings=False,          \n",
    "                                  locate_elbow=True)   #Si esta opción se activa, ubica el codo con una línea punteada.\n",
    "  visualizer2.fit(df_x_train)   #Ajusta los datos al visualizador.\n",
    "  visualizer2.show()"
   ]
  },
  {
   "cell_type": "code",
   "execution_count": null,
   "id": "57aaa15d",
   "metadata": {},
   "outputs": [],
   "source": [
    "#K-means\n",
    "#-------------------------------------------------------------------------------\n",
    "k = 3  #Número de grupos que se escogió después del análisis previo.\n",
    "\n",
    "#Ahora se instancia el objeto para utilizar el agrupamiento con k-means.\n",
    "#Para ver todas los opciones del constructor, consulte: https://scikit-learn.org/stable/modules/generated/sklearn.cluster.KMeans.html\n",
    "#Nota: el algoritmo de k-means disponible en scikit-learn funciona únicamente con la distancia euclidiana.\n",
    "#Si requiere aplicar k-means con otras métricas de distancia, puede consultar la librería PyClustering: https://github.com/annoviko/pyclustering\n",
    "kmeans = KMeans(n_clusters   = k,            #Se define el número de grupos.\n",
    "                init         = init,         #Se define el método de inicialización. Otra opción es 'random'\n",
    "                n_init       = n_init,       #Número de inicializaciones aleatorias. \n",
    "                max_iter     = max_iter,     #Número MÁXIMO de iteraciones para una sola ejecución.\n",
    "                random_state = random_seed)\n",
    "\n",
    "#Hagamos el ajuste (i.e.: encontremos los centroides).\n",
    "kmeans.fit(df_x_train)\n",
    "\n",
    "#Revisemos los centroides de cada grupo.\n",
    "centroides = kmeans.cluster_centers_\n",
    "print('Centroides:', centroides)"
   ]
  },
  {
   "cell_type": "code",
   "execution_count": null,
   "id": "8ee9b2d6",
   "metadata": {},
   "outputs": [],
   "source": []
  }
 ],
 "metadata": {
  "kernelspec": {
   "display_name": "Python 3 (ipykernel)",
   "language": "python",
   "name": "python3"
  },
  "language_info": {
   "codemirror_mode": {
    "name": "ipython",
    "version": 3
   },
   "file_extension": ".py",
   "mimetype": "text/x-python",
   "name": "python",
   "nbconvert_exporter": "python",
   "pygments_lexer": "ipython3",
   "version": "3.9.12"
  },
  "vscode": {
   "interpreter": {
    "hash": "2170c07657f87265cba946de83c9a171f992bd979658ca2ef08475a7d340f029"
   }
  }
 },
 "nbformat": 4,
 "nbformat_minor": 5
}

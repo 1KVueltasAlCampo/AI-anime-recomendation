{
 "cells": [
  {
   "cell_type": "code",
   "execution_count": 2,
   "id": "5bb18629",
   "metadata": {},
   "outputs": [],
   "source": [
    "import matplotlib.pyplot as plt    #Importamos pyplot de librería matplotlib. Lo vamos a utilizar para graficar.\n",
    "import seaborn as sns              #Importamos la librería Seaborn. La vamos a utilizar para graficar.\n",
    "import numpy as np                 #Importamos la librería numpy para manipular arreglos.\n",
    "import pandas as pd\n",
    "import os\n",
    "from pathlib import Path"
   ]
  },
  {
   "cell_type": "markdown",
   "id": "3e3e97ae",
   "metadata": {},
   "source": [
    "# **Anime recommendation**"
   ]
  },
  {
   "cell_type": "markdown",
   "id": "16ca42a2",
   "metadata": {},
   "source": [
    "## **Carga de datos**"
   ]
  },
  {
   "cell_type": "code",
   "execution_count": 24,
   "id": "ac3e6fba",
   "metadata": {
    "scrolled": true
   },
   "outputs": [
    {
     "name": "stdout",
     "output_type": "stream",
     "text": [
      "<class 'pandas.core.frame.DataFrame'>\n",
      "RangeIndex: 12294 entries, 0 to 12293\n",
      "Data columns (total 7 columns):\n",
      " #   Column    Non-Null Count  Dtype  \n",
      "---  ------    --------------  -----  \n",
      " 0   anime_id  12294 non-null  int64  \n",
      " 1   name      12294 non-null  object \n",
      " 2   genre     12232 non-null  object \n",
      " 3   type      12269 non-null  object \n",
      " 4   episodes  12294 non-null  object \n",
      " 5   rating    12064 non-null  float64\n",
      " 6   members   12294 non-null  int64  \n",
      "dtypes: float64(1), int64(2), object(4)\n",
      "memory usage: 672.5+ KB\n"
     ]
    }
   ],
   "source": [
    "#Anime.csv\n",
    "path = Path(os.getcwd())\n",
    "path = str(path.parent.absolute())\n",
    "path = path+\"/datos/anime.csv\"\n",
    "dfAnime = pd.read_csv(path,na_values='?')    \n",
    "dfAnime.info()"
   ]
  },
  {
   "cell_type": "code",
   "execution_count": 25,
   "id": "198a0f38",
   "metadata": {},
   "outputs": [
    {
     "name": "stdout",
     "output_type": "stream",
     "text": [
      "<class 'pandas.core.frame.DataFrame'>\n",
      "RangeIndex: 7813737 entries, 0 to 7813736\n",
      "Data columns (total 3 columns):\n",
      " #   Column    Dtype\n",
      "---  ------    -----\n",
      " 0   user_id   int64\n",
      " 1   anime_id  int64\n",
      " 2   rating    int64\n",
      "dtypes: int64(3)\n",
      "memory usage: 178.8 MB\n"
     ]
    }
   ],
   "source": [
    "#rating.csv\n",
    "path2 = Path(os.getcwd())\n",
    "path2 = str(path2.parent.absolute())\n",
    "path2 = path2+\"/datos/rating.csv\"\n",
    "dfRating = pd.read_csv(path2,na_values='?')    \n",
    "dfRating.info()"
   ]
  },
  {
   "cell_type": "markdown",
   "id": "d4507dfd",
   "metadata": {},
   "source": [
    "## **Tipos de dato adecuados**"
   ]
  },
  {
   "cell_type": "code",
   "execution_count": 26,
   "id": "3abda122",
   "metadata": {},
   "outputs": [
    {
     "name": "stdout",
     "output_type": "stream",
     "text": [
      "<class 'pandas.core.frame.DataFrame'>\n",
      "RangeIndex: 12294 entries, 0 to 12293\n",
      "Data columns (total 7 columns):\n",
      " #   Column    Non-Null Count  Dtype  \n",
      "---  ------    --------------  -----  \n",
      " 0   anime_id  12294 non-null  int64  \n",
      " 1   name      12294 non-null  string \n",
      " 2   genre     12232 non-null  string \n",
      " 3   type      12269 non-null  string \n",
      " 4   episodes  11954 non-null  float64\n",
      " 5   rating    12064 non-null  float64\n",
      " 6   members   12294 non-null  int64  \n",
      "dtypes: float64(2), int64(2), string(3)\n",
      "memory usage: 672.5 KB\n"
     ]
    }
   ],
   "source": [
    "#anime.csv\n",
    "dfAnime['name'] = dfAnime['name'].astype(\"string\")\n",
    "dfAnime['genre'] = dfAnime['genre'].astype(\"string\")\n",
    "dfAnime['type'] = dfAnime['type'].astype(\"string\")\n",
    "dfAnime['episodes']=pd.to_numeric(dfAnime.episodes, errors='coerce').dropna().astype(int)\n",
    "dfAnime.info()"
   ]
  },
  {
   "cell_type": "markdown",
   "id": "e780aa39",
   "metadata": {},
   "source": [
    " **rating.csv ya tenia los tipos de datos adecuados**"
   ]
  },
  {
   "cell_type": "markdown",
   "id": "4ded0935",
   "metadata": {},
   "source": [
    "## **Busqueda y eliminacion de valores nulos o duplicados**"
   ]
  },
  {
   "cell_type": "markdown",
   "id": "49ce91cb",
   "metadata": {},
   "source": [
    "### anime.csv"
   ]
  },
  {
   "cell_type": "code",
   "execution_count": 33,
   "id": "c41f3829",
   "metadata": {
    "scrolled": true
   },
   "outputs": [
    {
     "name": "stdout",
     "output_type": "stream",
     "text": [
      "Se encontraron  464  valores nulos\n"
     ]
    }
   ],
   "source": [
    "nullValues = []\n",
    "\n",
    "for i in range(len(dfAnime)):\n",
    "    if(dfAnime.iloc[i].isnull().sum() != 0):\n",
    "        nullValues.append(i)\n",
    "print(\"Se encontraron \",len(nullValues),\" valores nulos\")\n",
    "#La cantidad de datos con valores nulos no es tan grande en comparacion asi que podemos borrarlos\n",
    "#Unknown es contado como nulo porque no podemos asumir la cantidad de episodios de un anime en base a otros"
   ]
  },
  {
   "cell_type": "code",
   "execution_count": 34,
   "id": "bb14bf96",
   "metadata": {},
   "outputs": [
    {
     "name": "stdout",
     "output_type": "stream",
     "text": [
      "<class 'pandas.core.frame.DataFrame'>\n",
      "Int64Index: 11830 entries, 0 to 12293\n",
      "Data columns (total 7 columns):\n",
      " #   Column    Non-Null Count  Dtype  \n",
      "---  ------    --------------  -----  \n",
      " 0   anime_id  11830 non-null  int64  \n",
      " 1   name      11830 non-null  string \n",
      " 2   genre     11830 non-null  string \n",
      " 3   type      11830 non-null  string \n",
      " 4   episodes  11830 non-null  int32  \n",
      " 5   rating    11830 non-null  float64\n",
      " 6   members   11830 non-null  int64  \n",
      "dtypes: float64(1), int32(1), int64(2), string(3)\n",
      "memory usage: 693.2 KB\n"
     ]
    }
   ],
   "source": [
    "dfAnime=dfAnime.drop(nullValues)\n",
    "dfAnime['episodes'] = dfAnime['episodes'].astype(int)\n",
    "dfAnime.info()"
   ]
  },
  {
   "cell_type": "code",
   "execution_count": 9,
   "id": "363e2cbb",
   "metadata": {
    "scrolled": true
   },
   "outputs": [
    {
     "name": "stdout",
     "output_type": "stream",
     "text": [
      "Numero de datos duplicados  0\n"
     ]
    }
   ],
   "source": [
    "duplicados = dfAnime[dfAnime.duplicated()].shape[0]\n",
    "print(\"Numero de datos duplicados \",duplicados)"
   ]
  },
  {
   "cell_type": "markdown",
   "id": "e6de6ec5",
   "metadata": {},
   "source": [
    "### rating.csv"
   ]
  },
  {
   "cell_type": "code",
   "execution_count": 36,
   "id": "1b6ef8b4",
   "metadata": {},
   "outputs": [
    {
     "name": "stdout",
     "output_type": "stream",
     "text": [
      "La cantidad de datos nulos es:\n"
     ]
    },
    {
     "data": {
      "text/html": [
       "<style type=\"text/css\">\n",
       "#T_3933c_row0_col0, #T_3933c_row0_col1, #T_3933c_row0_col2 {\n",
       "  background-color: #2a9d8f;\n",
       "  color: white;\n",
       "  border: 1.5px  solid black;\n",
       "}\n",
       "</style>\n",
       "<table id=\"T_3933c\">\n",
       "  <thead>\n",
       "    <tr>\n",
       "      <th class=\"blank level0\" >&nbsp;</th>\n",
       "      <th id=\"T_3933c_level0_col0\" class=\"col_heading level0 col0\" >user_id</th>\n",
       "      <th id=\"T_3933c_level0_col1\" class=\"col_heading level0 col1\" >anime_id</th>\n",
       "      <th id=\"T_3933c_level0_col2\" class=\"col_heading level0 col2\" >rating</th>\n",
       "    </tr>\n",
       "  </thead>\n",
       "  <tbody>\n",
       "    <tr>\n",
       "      <th id=\"T_3933c_level0_row0\" class=\"row_heading level0 row0\" >0</th>\n",
       "      <td id=\"T_3933c_row0_col0\" class=\"data row0 col0\" >0</td>\n",
       "      <td id=\"T_3933c_row0_col1\" class=\"data row0 col1\" >0</td>\n",
       "      <td id=\"T_3933c_row0_col2\" class=\"data row0 col2\" >0</td>\n",
       "    </tr>\n",
       "  </tbody>\n",
       "</table>\n"
      ],
      "text/plain": [
       "<pandas.io.formats.style.Styler at 0x19320759910>"
      ]
     },
     "execution_count": 36,
     "metadata": {},
     "output_type": "execute_result"
    }
   ],
   "source": [
    "print(\"La cantidad de datos nulos es:\")\n",
    "dfRating.isna().sum().to_frame().T.style.set_properties(**{\"background-color\": \"#2a9d8f\",\"color\":\"white\",\"border\": \"1.5px  solid black\"})"
   ]
  },
  {
   "cell_type": "code",
   "execution_count": 37,
   "id": "93533932",
   "metadata": {},
   "outputs": [
    {
     "name": "stdout",
     "output_type": "stream",
     "text": [
      "Numero de datos duplicados  1\n"
     ]
    }
   ],
   "source": [
    "duplicados = dfRating[dfRating.duplicated()].shape[0]\n",
    "print(\"Numero de datos duplicados \",duplicados)"
   ]
  },
  {
   "cell_type": "code",
   "execution_count": 38,
   "id": "77b70973",
   "metadata": {},
   "outputs": [
    {
     "name": "stdout",
     "output_type": "stream",
     "text": [
      "Numero de datos duplicados  0\n"
     ]
    }
   ],
   "source": [
    "dfRating.drop_duplicates(keep='first',inplace=True)\n",
    "duplicados = dfRating[dfRating.duplicated()].shape[0]\n",
    "print(\"Numero de datos duplicados \",duplicados)"
   ]
  },
  {
   "cell_type": "markdown",
   "id": "8638b0e8",
   "metadata": {},
   "source": [
    "## **Busqueda y eliminacion de outliers**"
   ]
  },
  {
   "cell_type": "code",
   "execution_count": 10,
   "id": "3aaa445f",
   "metadata": {},
   "outputs": [],
   "source": [
    "sns.set_theme(style=\"whitegrid\")"
   ]
  },
  {
   "cell_type": "code",
   "execution_count": 11,
   "id": "6f4d9e01",
   "metadata": {},
   "outputs": [
    {
     "data": {
      "image/png": "[encoded data removed]",
      "text/plain": [
       "<Figure size 432x288 with 1 Axes>"
      ]
     },
     "metadata": {},
     "output_type": "display_data"
    }
   ],
   "source": [
    "atr = 'episodes'\n",
    "ax = sns.boxplot(x=dfAnime[atr])"
   ]
  },
  {
   "cell_type": "code",
   "execution_count": 12,
   "id": "92c73700",
   "metadata": {},
   "outputs": [
    {
     "data": {
      "image/png": "[encoded data removed]",
      "text/plain": [
       "<Figure size 432x288 with 1 Axes>"
      ]
     },
     "metadata": {},
     "output_type": "display_data"
    }
   ],
   "source": [
    "atr = 'rating'\n",
    "ax = sns.boxplot(x=dfAnime[atr])"
   ]
  },
  {
   "cell_type": "code",
   "execution_count": 13,
   "id": "40a9b59a",
   "metadata": {},
   "outputs": [
    {
     "data": {
      "image/png": "[encoded data removed]",
      "text/plain": [
       "<Figure size 432x288 with 1 Axes>"
      ]
     },
     "metadata": {},
     "output_type": "display_data"
    }
   ],
   "source": [
    "atr = 'members'\n",
    "ax = sns.boxplot(x=dfAnime[atr])"
   ]
  },
  {
   "cell_type": "code",
   "execution_count": null,
   "id": "22af9f4f",
   "metadata": {},
   "outputs": [],
   "source": []
  }
 ],
 "metadata": {
  "kernelspec": {
   "display_name": "Python 3 (ipykernel)",
   "language": "python",
   "name": "python3"
  },
  "language_info": {
   "codemirror_mode": {
    "name": "ipython",
    "version": 3
   },
   "file_extension": ".py",
   "mimetype": "text/x-python",
   "name": "python",
   "nbconvert_exporter": "python",
   "pygments_lexer": "ipython3",
   "version": "3.9.12"
  }
 },
 "nbformat": 4,
 "nbformat_minor": 5
}
